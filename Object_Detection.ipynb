{
  "cells": [
    {
      "cell_type": "markdown",
      "metadata": {
        "id": "view-in-github",
        "colab_type": "text"
      },
      "source": [
        "<a href=\"https://colab.research.google.com/github/gfidelisp/Jet_Impingement/blob/main/Object_Detection.ipynb\" target=\"_parent\"><img src=\"https://colab.research.google.com/assets/colab-badge.svg\" alt=\"Open In Colab\"/></a>"
      ]
    },
    {
      "cell_type": "markdown",
      "metadata": {
        "id": "rLKYvp4gApDD"
      },
      "source": [
        "## Montando os arquivos no Google Drive"
      ]
    },
    {
      "cell_type": "code",
      "execution_count": null,
      "metadata": {
        "colab": {
          "base_uri": "https://localhost:8080/"
        },
        "id": "zFykxD_MslxK",
        "outputId": "23cc9a90-7060-4381-a5d6-182d638f5d8b"
      },
      "outputs": [
        {
          "output_type": "stream",
          "name": "stdout",
          "text": [
            "Mounted at /content/drive\n"
          ]
        }
      ],
      "source": [
        "from google.colab import drive\n",
        "drive.mount('/content/drive')"
      ]
    },
    {
      "cell_type": "markdown",
      "metadata": {
        "id": "003AZE8uAu1b"
      },
      "source": [
        "## Localizando a pasta com os arquivos"
      ]
    },
    {
      "cell_type": "code",
      "execution_count": null,
      "metadata": {
        "id": "jQJ7XIhgsmwK"
      },
      "outputs": [],
      "source": [
        "import os\n",
        "os.chdir('/content/drive/MyDrive/Jet_Impingement')"
      ]
    },
    {
      "cell_type": "markdown",
      "metadata": {
        "id": "J6YGAr1OBBVy"
      },
      "source": [
        "## Importando os packages"
      ]
    },
    {
      "cell_type": "code",
      "execution_count": null,
      "metadata": {
        "colab": {
          "base_uri": "https://localhost:8080/"
        },
        "id": "Hb7P9CWWtk7I",
        "outputId": "f593c9fe-350e-487d-fb6c-16f868bac13d"
      },
      "outputs": [
        {
          "output_type": "stream",
          "name": "stdout",
          "text": [
            "Looking in indexes: https://pypi.org/simple, https://us-python.pkg.dev/colab-wheels/public/simple/\n",
            "Requirement already satisfied: detecto in /usr/local/lib/python3.8/dist-packages (1.2.2)\n",
            "Requirement already satisfied: matplotlib in /usr/local/lib/python3.8/dist-packages (from detecto) (3.2.2)\n",
            "Requirement already satisfied: opencv-python in /usr/local/lib/python3.8/dist-packages (from detecto) (4.6.0.66)\n",
            "Requirement already satisfied: torchvision in /usr/local/lib/python3.8/dist-packages (from detecto) (0.14.0+cu116)\n",
            "Requirement already satisfied: tqdm in /usr/local/lib/python3.8/dist-packages (from detecto) (4.64.1)\n",
            "Requirement already satisfied: torch in /usr/local/lib/python3.8/dist-packages (from detecto) (1.13.0+cu116)\n",
            "Requirement already satisfied: pandas in /usr/local/lib/python3.8/dist-packages (from detecto) (1.3.5)\n",
            "Requirement already satisfied: python-dateutil>=2.1 in /usr/local/lib/python3.8/dist-packages (from matplotlib->detecto) (2.8.2)\n",
            "Requirement already satisfied: pyparsing!=2.0.4,!=2.1.2,!=2.1.6,>=2.0.1 in /usr/local/lib/python3.8/dist-packages (from matplotlib->detecto) (3.0.9)\n",
            "Requirement already satisfied: kiwisolver>=1.0.1 in /usr/local/lib/python3.8/dist-packages (from matplotlib->detecto) (1.4.4)\n",
            "Requirement already satisfied: numpy>=1.11 in /usr/local/lib/python3.8/dist-packages (from matplotlib->detecto) (1.21.6)\n",
            "Requirement already satisfied: cycler>=0.10 in /usr/local/lib/python3.8/dist-packages (from matplotlib->detecto) (0.11.0)\n",
            "Requirement already satisfied: six>=1.5 in /usr/local/lib/python3.8/dist-packages (from python-dateutil>=2.1->matplotlib->detecto) (1.15.0)\n",
            "Requirement already satisfied: pytz>=2017.3 in /usr/local/lib/python3.8/dist-packages (from pandas->detecto) (2022.6)\n",
            "Requirement already satisfied: typing-extensions in /usr/local/lib/python3.8/dist-packages (from torch->detecto) (4.4.0)\n",
            "Requirement already satisfied: requests in /usr/local/lib/python3.8/dist-packages (from torchvision->detecto) (2.23.0)\n",
            "Requirement already satisfied: pillow!=8.3.*,>=5.3.0 in /usr/local/lib/python3.8/dist-packages (from torchvision->detecto) (7.1.2)\n",
            "Requirement already satisfied: idna<3,>=2.5 in /usr/local/lib/python3.8/dist-packages (from requests->torchvision->detecto) (2.10)\n",
            "Requirement already satisfied: urllib3!=1.25.0,!=1.25.1,<1.26,>=1.21.1 in /usr/local/lib/python3.8/dist-packages (from requests->torchvision->detecto) (1.24.3)\n",
            "Requirement already satisfied: certifi>=2017.4.17 in /usr/local/lib/python3.8/dist-packages (from requests->torchvision->detecto) (2022.9.24)\n",
            "Requirement already satisfied: chardet<4,>=3.0.2 in /usr/local/lib/python3.8/dist-packages (from requests->torchvision->detecto) (3.0.4)\n"
          ]
        }
      ],
      "source": [
        "# Instalação do detecto\n",
        "!pip install detecto"
      ]
    },
    {
      "cell_type": "markdown",
      "metadata": {
        "id": "3xqSmpStBIvp"
      },
      "source": [
        "Importandos os packages que serão utilizados"
      ]
    },
    {
      "cell_type": "code",
      "execution_count": null,
      "metadata": {
        "id": "C1VmPl8XdMKK"
      },
      "outputs": [],
      "source": [
        "import cv2\n",
        "import shutil\n",
        "import math\n",
        "\n",
        "import numpy as np\n",
        "import pandas as pd\n",
        "\n",
        "import matplotlib.pyplot as plt\n",
        "import matplotlib.image as img\n",
        "import matplotlib.patches as patches\n",
        "\n",
        "import torch\n",
        "from torchvision import transforms\n",
        "\n",
        "from detecto import utils\n",
        "from detecto import core\n",
        "from detecto import visualize\n",
        "from detecto.core import Model\n",
        "from detecto.utils import reverse_normalize, normalize_transform, _is_iterable\n",
        "\n",
        "import tensorflow as tf\n",
        "from tensorflow import keras\n",
        "from tensorflow.keras.preprocessing.image import ImageDataGenerator\n",
        "from tensorflow.keras.preprocessing import image\n",
        "from tensorflow.keras.layers import Dropout, RandomRotation\n",
        "from tensorflow.keras import regularizers\n",
        "from tensorflow.keras.constraints import unit_norm"
      ]
    },
    {
      "cell_type": "markdown",
      "metadata": {
        "id": "l-jsMc5cBR2c"
      },
      "source": [
        "# Detecção e Lozalização da Zona de Teste"
      ]
    },
    {
      "cell_type": "markdown",
      "metadata": {
        "id": "r-k02Mr5BVno"
      },
      "source": [
        "Leitura dos conjuntos de dados de treino e de teste"
      ]
    },
    {
      "cell_type": "code",
      "execution_count": null,
      "metadata": {
        "colab": {
          "base_uri": "https://localhost:8080/",
          "height": 551
        },
        "id": "Hh4Lroxhtfxh",
        "outputId": "389489b4-2bc4-48c6-cb69-4e17a4da1640"
      },
      "outputs": [
        {
          "output_type": "execute_result",
          "data": {
            "text/plain": [
              "                   filename  width  height          class  xmin  ymin  xmax  \\\n",
              "0     0a066495-M8_125_6.png    640     480  Zona de teste   200   237   430   \n",
              "1     5fe459e4-M8_225_1.png    640     480  Zona de teste   193   232   435   \n",
              "2     5d3d6917-M8_225_4.png    640     480  Zona de teste   195   235   427   \n",
              "3      2f6f1055-M6_75_0.png    640     480  Zona de teste   269   280   483   \n",
              "4      4ee25673-M6_50_4.png    640     480  Zona de teste   261   276   484   \n",
              "5      0b9e92db-M8_50_6.png    640     480  Zona de teste   199   230   424   \n",
              "6      1eec4e93-M6_50_5.png    640     480  Zona de teste   258   279   480   \n",
              "7     2dafdf9c-M1_125_4.png    640     480  Zona de teste   198   177   414   \n",
              "8     06bc84db-M1_175_0.png    640     480  Zona de teste   198   178   409   \n",
              "9   4ffa7006-M6_150_1_6.png    640     480  Zona de teste   258   276   487   \n",
              "10     0da67691-M8_50_0.png    640     480  Zona de teste   197   230   430   \n",
              "11  2d9cedae-M6_200_1_2.png    640     480  Zona de teste   264   279   488   \n",
              "12    1e17054f-M8_225_3.png    640     480  Zona de teste   193   232   428   \n",
              "13    2bf0fb86-M1_175_5.png    640     480  Zona de teste   194   177   414   \n",
              "14  0dc52258-M6_175_1_4.png    640     480  Zona de teste   268   280   476   \n",
              "15    0c56587d-M8_125_5.png    640     480  Zona de teste   203   235   430   \n",
              "\n",
              "    ymax  image_id  \n",
              "0    279         0  \n",
              "1    281         1  \n",
              "2    290         2  \n",
              "3    325         3  \n",
              "4    327         4  \n",
              "5    281         5  \n",
              "6    326         6  \n",
              "7    224         7  \n",
              "8    230         8  \n",
              "9    328         9  \n",
              "10   284        10  \n",
              "11   331        11  \n",
              "12   289        12  \n",
              "13   226        13  \n",
              "14   327        14  \n",
              "15   281        15  "
            ],
            "text/html": [
              "\n",
              "  <div id=\"df-7e8f2a2e-b595-4fe0-87d8-1574b89336d3\">\n",
              "    <div class=\"colab-df-container\">\n",
              "      <div>\n",
              "<style scoped>\n",
              "    .dataframe tbody tr th:only-of-type {\n",
              "        vertical-align: middle;\n",
              "    }\n",
              "\n",
              "    .dataframe tbody tr th {\n",
              "        vertical-align: top;\n",
              "    }\n",
              "\n",
              "    .dataframe thead th {\n",
              "        text-align: right;\n",
              "    }\n",
              "</style>\n",
              "<table border=\"1\" class=\"dataframe\">\n",
              "  <thead>\n",
              "    <tr style=\"text-align: right;\">\n",
              "      <th></th>\n",
              "      <th>filename</th>\n",
              "      <th>width</th>\n",
              "      <th>height</th>\n",
              "      <th>class</th>\n",
              "      <th>xmin</th>\n",
              "      <th>ymin</th>\n",
              "      <th>xmax</th>\n",
              "      <th>ymax</th>\n",
              "      <th>image_id</th>\n",
              "    </tr>\n",
              "  </thead>\n",
              "  <tbody>\n",
              "    <tr>\n",
              "      <th>0</th>\n",
              "      <td>0a066495-M8_125_6.png</td>\n",
              "      <td>640</td>\n",
              "      <td>480</td>\n",
              "      <td>Zona de teste</td>\n",
              "      <td>200</td>\n",
              "      <td>237</td>\n",
              "      <td>430</td>\n",
              "      <td>279</td>\n",
              "      <td>0</td>\n",
              "    </tr>\n",
              "    <tr>\n",
              "      <th>1</th>\n",
              "      <td>5fe459e4-M8_225_1.png</td>\n",
              "      <td>640</td>\n",
              "      <td>480</td>\n",
              "      <td>Zona de teste</td>\n",
              "      <td>193</td>\n",
              "      <td>232</td>\n",
              "      <td>435</td>\n",
              "      <td>281</td>\n",
              "      <td>1</td>\n",
              "    </tr>\n",
              "    <tr>\n",
              "      <th>2</th>\n",
              "      <td>5d3d6917-M8_225_4.png</td>\n",
              "      <td>640</td>\n",
              "      <td>480</td>\n",
              "      <td>Zona de teste</td>\n",
              "      <td>195</td>\n",
              "      <td>235</td>\n",
              "      <td>427</td>\n",
              "      <td>290</td>\n",
              "      <td>2</td>\n",
              "    </tr>\n",
              "    <tr>\n",
              "      <th>3</th>\n",
              "      <td>2f6f1055-M6_75_0.png</td>\n",
              "      <td>640</td>\n",
              "      <td>480</td>\n",
              "      <td>Zona de teste</td>\n",
              "      <td>269</td>\n",
              "      <td>280</td>\n",
              "      <td>483</td>\n",
              "      <td>325</td>\n",
              "      <td>3</td>\n",
              "    </tr>\n",
              "    <tr>\n",
              "      <th>4</th>\n",
              "      <td>4ee25673-M6_50_4.png</td>\n",
              "      <td>640</td>\n",
              "      <td>480</td>\n",
              "      <td>Zona de teste</td>\n",
              "      <td>261</td>\n",
              "      <td>276</td>\n",
              "      <td>484</td>\n",
              "      <td>327</td>\n",
              "      <td>4</td>\n",
              "    </tr>\n",
              "    <tr>\n",
              "      <th>5</th>\n",
              "      <td>0b9e92db-M8_50_6.png</td>\n",
              "      <td>640</td>\n",
              "      <td>480</td>\n",
              "      <td>Zona de teste</td>\n",
              "      <td>199</td>\n",
              "      <td>230</td>\n",
              "      <td>424</td>\n",
              "      <td>281</td>\n",
              "      <td>5</td>\n",
              "    </tr>\n",
              "    <tr>\n",
              "      <th>6</th>\n",
              "      <td>1eec4e93-M6_50_5.png</td>\n",
              "      <td>640</td>\n",
              "      <td>480</td>\n",
              "      <td>Zona de teste</td>\n",
              "      <td>258</td>\n",
              "      <td>279</td>\n",
              "      <td>480</td>\n",
              "      <td>326</td>\n",
              "      <td>6</td>\n",
              "    </tr>\n",
              "    <tr>\n",
              "      <th>7</th>\n",
              "      <td>2dafdf9c-M1_125_4.png</td>\n",
              "      <td>640</td>\n",
              "      <td>480</td>\n",
              "      <td>Zona de teste</td>\n",
              "      <td>198</td>\n",
              "      <td>177</td>\n",
              "      <td>414</td>\n",
              "      <td>224</td>\n",
              "      <td>7</td>\n",
              "    </tr>\n",
              "    <tr>\n",
              "      <th>8</th>\n",
              "      <td>06bc84db-M1_175_0.png</td>\n",
              "      <td>640</td>\n",
              "      <td>480</td>\n",
              "      <td>Zona de teste</td>\n",
              "      <td>198</td>\n",
              "      <td>178</td>\n",
              "      <td>409</td>\n",
              "      <td>230</td>\n",
              "      <td>8</td>\n",
              "    </tr>\n",
              "    <tr>\n",
              "      <th>9</th>\n",
              "      <td>4ffa7006-M6_150_1_6.png</td>\n",
              "      <td>640</td>\n",
              "      <td>480</td>\n",
              "      <td>Zona de teste</td>\n",
              "      <td>258</td>\n",
              "      <td>276</td>\n",
              "      <td>487</td>\n",
              "      <td>328</td>\n",
              "      <td>9</td>\n",
              "    </tr>\n",
              "    <tr>\n",
              "      <th>10</th>\n",
              "      <td>0da67691-M8_50_0.png</td>\n",
              "      <td>640</td>\n",
              "      <td>480</td>\n",
              "      <td>Zona de teste</td>\n",
              "      <td>197</td>\n",
              "      <td>230</td>\n",
              "      <td>430</td>\n",
              "      <td>284</td>\n",
              "      <td>10</td>\n",
              "    </tr>\n",
              "    <tr>\n",
              "      <th>11</th>\n",
              "      <td>2d9cedae-M6_200_1_2.png</td>\n",
              "      <td>640</td>\n",
              "      <td>480</td>\n",
              "      <td>Zona de teste</td>\n",
              "      <td>264</td>\n",
              "      <td>279</td>\n",
              "      <td>488</td>\n",
              "      <td>331</td>\n",
              "      <td>11</td>\n",
              "    </tr>\n",
              "    <tr>\n",
              "      <th>12</th>\n",
              "      <td>1e17054f-M8_225_3.png</td>\n",
              "      <td>640</td>\n",
              "      <td>480</td>\n",
              "      <td>Zona de teste</td>\n",
              "      <td>193</td>\n",
              "      <td>232</td>\n",
              "      <td>428</td>\n",
              "      <td>289</td>\n",
              "      <td>12</td>\n",
              "    </tr>\n",
              "    <tr>\n",
              "      <th>13</th>\n",
              "      <td>2bf0fb86-M1_175_5.png</td>\n",
              "      <td>640</td>\n",
              "      <td>480</td>\n",
              "      <td>Zona de teste</td>\n",
              "      <td>194</td>\n",
              "      <td>177</td>\n",
              "      <td>414</td>\n",
              "      <td>226</td>\n",
              "      <td>13</td>\n",
              "    </tr>\n",
              "    <tr>\n",
              "      <th>14</th>\n",
              "      <td>0dc52258-M6_175_1_4.png</td>\n",
              "      <td>640</td>\n",
              "      <td>480</td>\n",
              "      <td>Zona de teste</td>\n",
              "      <td>268</td>\n",
              "      <td>280</td>\n",
              "      <td>476</td>\n",
              "      <td>327</td>\n",
              "      <td>14</td>\n",
              "    </tr>\n",
              "    <tr>\n",
              "      <th>15</th>\n",
              "      <td>0c56587d-M8_125_5.png</td>\n",
              "      <td>640</td>\n",
              "      <td>480</td>\n",
              "      <td>Zona de teste</td>\n",
              "      <td>203</td>\n",
              "      <td>235</td>\n",
              "      <td>430</td>\n",
              "      <td>281</td>\n",
              "      <td>15</td>\n",
              "    </tr>\n",
              "  </tbody>\n",
              "</table>\n",
              "</div>\n",
              "      <button class=\"colab-df-convert\" onclick=\"convertToInteractive('df-7e8f2a2e-b595-4fe0-87d8-1574b89336d3')\"\n",
              "              title=\"Convert this dataframe to an interactive table.\"\n",
              "              style=\"display:none;\">\n",
              "        \n",
              "  <svg xmlns=\"http://www.w3.org/2000/svg\" height=\"24px\"viewBox=\"0 0 24 24\"\n",
              "       width=\"24px\">\n",
              "    <path d=\"M0 0h24v24H0V0z\" fill=\"none\"/>\n",
              "    <path d=\"M18.56 5.44l.94 2.06.94-2.06 2.06-.94-2.06-.94-.94-2.06-.94 2.06-2.06.94zm-11 1L8.5 8.5l.94-2.06 2.06-.94-2.06-.94L8.5 2.5l-.94 2.06-2.06.94zm10 10l.94 2.06.94-2.06 2.06-.94-2.06-.94-.94-2.06-.94 2.06-2.06.94z\"/><path d=\"M17.41 7.96l-1.37-1.37c-.4-.4-.92-.59-1.43-.59-.52 0-1.04.2-1.43.59L10.3 9.45l-7.72 7.72c-.78.78-.78 2.05 0 2.83L4 21.41c.39.39.9.59 1.41.59.51 0 1.02-.2 1.41-.59l7.78-7.78 2.81-2.81c.8-.78.8-2.07 0-2.86zM5.41 20L4 18.59l7.72-7.72 1.47 1.35L5.41 20z\"/>\n",
              "  </svg>\n",
              "      </button>\n",
              "      \n",
              "  <style>\n",
              "    .colab-df-container {\n",
              "      display:flex;\n",
              "      flex-wrap:wrap;\n",
              "      gap: 12px;\n",
              "    }\n",
              "\n",
              "    .colab-df-convert {\n",
              "      background-color: #E8F0FE;\n",
              "      border: none;\n",
              "      border-radius: 50%;\n",
              "      cursor: pointer;\n",
              "      display: none;\n",
              "      fill: #1967D2;\n",
              "      height: 32px;\n",
              "      padding: 0 0 0 0;\n",
              "      width: 32px;\n",
              "    }\n",
              "\n",
              "    .colab-df-convert:hover {\n",
              "      background-color: #E2EBFA;\n",
              "      box-shadow: 0px 1px 2px rgba(60, 64, 67, 0.3), 0px 1px 3px 1px rgba(60, 64, 67, 0.15);\n",
              "      fill: #174EA6;\n",
              "    }\n",
              "\n",
              "    [theme=dark] .colab-df-convert {\n",
              "      background-color: #3B4455;\n",
              "      fill: #D2E3FC;\n",
              "    }\n",
              "\n",
              "    [theme=dark] .colab-df-convert:hover {\n",
              "      background-color: #434B5C;\n",
              "      box-shadow: 0px 1px 3px 1px rgba(0, 0, 0, 0.15);\n",
              "      filter: drop-shadow(0px 1px 2px rgba(0, 0, 0, 0.3));\n",
              "      fill: #FFFFFF;\n",
              "    }\n",
              "  </style>\n",
              "\n",
              "      <script>\n",
              "        const buttonEl =\n",
              "          document.querySelector('#df-7e8f2a2e-b595-4fe0-87d8-1574b89336d3 button.colab-df-convert');\n",
              "        buttonEl.style.display =\n",
              "          google.colab.kernel.accessAllowed ? 'block' : 'none';\n",
              "\n",
              "        async function convertToInteractive(key) {\n",
              "          const element = document.querySelector('#df-7e8f2a2e-b595-4fe0-87d8-1574b89336d3');\n",
              "          const dataTable =\n",
              "            await google.colab.kernel.invokeFunction('convertToInteractive',\n",
              "                                                     [key], {});\n",
              "          if (!dataTable) return;\n",
              "\n",
              "          const docLinkHtml = 'Like what you see? Visit the ' +\n",
              "            '<a target=\"_blank\" href=https://colab.research.google.com/notebooks/data_table.ipynb>data table notebook</a>'\n",
              "            + ' to learn more about interactive tables.';\n",
              "          element.innerHTML = '';\n",
              "          dataTable['output_type'] = 'display_data';\n",
              "          await google.colab.output.renderOutput(dataTable, element);\n",
              "          const docLink = document.createElement('div');\n",
              "          docLink.innerHTML = docLinkHtml;\n",
              "          element.appendChild(docLink);\n",
              "        }\n",
              "      </script>\n",
              "    </div>\n",
              "  </div>\n",
              "  "
            ]
          },
          "metadata": {},
          "execution_count": 6
        }
      ],
      "source": [
        "utils.xml_to_csv('Data/Input_Data/Annotations/train_labels', 'Data/Input_Data/Annotations/train.csv')\n",
        "utils.xml_to_csv('Data/Input_Data/Annotations/val_labels', 'Data/Input_Data/Annotations/val.csv')"
      ]
    },
    {
      "cell_type": "markdown",
      "metadata": {
        "id": "ASX4JstUBajw"
      },
      "source": [
        "Observando uma imagem "
      ]
    },
    {
      "cell_type": "code",
      "execution_count": null,
      "metadata": {
        "colab": {
          "base_uri": "https://localhost:8080/",
          "height": 269
        },
        "id": "IR-jSFeHtuU5",
        "outputId": "5f2d65c0-e70d-401b-bd70-2ab0f621afc7"
      },
      "outputs": [
        {
          "output_type": "display_data",
          "data": {
            "text/plain": [
              "<Figure size 432x288 with 1 Axes>"
            ],
            "image/png": "[encoded data removed]"
          },
          "metadata": {
            "needs_background": "light"
          }
        }
      ],
      "source": [
        "image = img.imread('Data/Input_Data/Annotations/images/5fe459e4-M8_225_1.png')\n",
        "plt.imshow(image)\n",
        "plt.show()"
      ]
    },
    {
      "cell_type": "markdown",
      "metadata": {
        "id": "wcSooFGLBfcO"
      },
      "source": [
        "Transformando a imagem para que possa ser tratada"
      ]
    },
    {
      "cell_type": "code",
      "execution_count": null,
      "metadata": {
        "id": "yq1Vn2QZtxAF"
      },
      "outputs": [],
      "source": [
        "transform_img = transforms.Compose([\n",
        "    transforms.ToPILImage(),\n",
        "    transforms.Resize(800),\n",
        "    transforms.RandomHorizontalFlip(0.5),\n",
        "    transforms.ToTensor(),\n",
        "    utils.normalize_transform(),\n",
        "])"
      ]
    },
    {
      "cell_type": "markdown",
      "metadata": {
        "id": "6hj7CblnBlYQ"
      },
      "source": [
        "Definição e transformação do Dataset"
      ]
    },
    {
      "cell_type": "code",
      "execution_count": null,
      "metadata": {
        "id": "FiI7FLeOuJ5Z"
      },
      "outputs": [],
      "source": [
        "dataset = core.Dataset('Data/Input_Data/Annotations/train.csv', 'Data/Input_Data/Annotations/images/', transform=transform_img)"
      ]
    },
    {
      "cell_type": "markdown",
      "metadata": {
        "id": "8QbeY7EMBvT-"
      },
      "source": [
        "Visualização da imagem anotada"
      ]
    },
    {
      "cell_type": "code",
      "execution_count": null,
      "metadata": {
        "colab": {
          "base_uri": "https://localhost:8080/",
          "height": 269
        },
        "id": "5qk6lTz-uLbw",
        "outputId": "9c1204b7-d062-4af7-96cf-bae5cbc33f72"
      },
      "outputs": [
        {
          "output_type": "display_data",
          "data": {
            "text/plain": [
              "<Figure size 432x288 with 1 Axes>"
            ],
            "image/png": "[encoded data removed]"
          },
          "metadata": {
            "needs_background": "light"
          }
        }
      ],
      "source": [
        "image, information = dataset[50] \n",
        "visualize.show_labeled_image(image, information['boxes'], information['labels'])"
      ]
    },
    {
      "cell_type": "markdown",
      "metadata": {
        "id": "iAp2VU8ZB0N9"
      },
      "source": [
        "## Treinamento do classificador"
      ]
    },
    {
      "cell_type": "markdown",
      "metadata": {
        "id": "s2HhVRf9B94V"
      },
      "source": [
        "Carregando o Dataset"
      ]
    },
    {
      "cell_type": "code",
      "execution_count": null,
      "metadata": {
        "id": "oB0Z5hXfuN2A"
      },
      "outputs": [],
      "source": [
        "dataloader = core.DataLoader(dataset)"
      ]
    },
    {
      "cell_type": "markdown",
      "metadata": {
        "id": "tpShB1eRB6cl"
      },
      "source": [
        "Conjunto de validação"
      ]
    },
    {
      "cell_type": "code",
      "execution_count": null,
      "metadata": {
        "id": "gbP1AE7muP4J"
      },
      "outputs": [],
      "source": [
        "validation_data = core.Dataset('Data/Input_Data/Annotations/val.csv', 'Data/Input_Data/Annotations/images/')"
      ]
    },
    {
      "cell_type": "markdown",
      "metadata": {
        "id": "Dre0av7_CCR1"
      },
      "source": [
        "Definição das categorias"
      ]
    },
    {
      "cell_type": "code",
      "execution_count": null,
      "metadata": {
        "colab": {
          "base_uri": "https://localhost:8080/",
          "height": 161,
          "referenced_widgets": [
            "8717251a667042418c3b4f131b61b6ba",
            "958aa288d73d4c90a710f4472560057a",
            "253ba5a7836a403b8e0f1e2189b4b8ca",
            "a289cd75086440c28113a2f4ae71c778",
            "71c7e4edf0b1498fb4b9dfa16d167a11",
            "ee9f97df94fa4b128bda9f192984b817",
            "3b08ff45bdaa428e862e072878651200",
            "801e9678c34a4a09a8ac572084729978",
            "1cb9cb843b8e465fbb3fd4804677e815",
            "c821abc164b14a44b1370cf36da1337b",
            "ad00a9a08f4d41239be61546ff98bae6"
          ]
        },
        "id": "JhUKreCyuRVg",
        "outputId": "adc3382a-15b7-44ef-ee67-259766546364"
      },
      "outputs": [
        {
          "output_type": "stream",
          "name": "stderr",
          "text": [
            "/usr/local/lib/python3.8/dist-packages/torchvision/models/_utils.py:208: UserWarning: The parameter 'pretrained' is deprecated since 0.13 and may be removed in the future, please use 'weights' instead.\n",
            "  warnings.warn(\n",
            "/usr/local/lib/python3.8/dist-packages/torchvision/models/_utils.py:223: UserWarning: Arguments other than a weight enum or `None` for 'weights' are deprecated since 0.13 and may be removed in the future. The current behavior is equivalent to passing `weights=FasterRCNN_ResNet50_FPN_Weights.COCO_V1`. You can also use `weights=FasterRCNN_ResNet50_FPN_Weights.DEFAULT` to get the most up-to-date weights.\n",
            "  warnings.warn(msg)\n",
            "Downloading: \"https://download.pytorch.org/models/fasterrcnn_resnet50_fpn_coco-258fb6c6.pth\" to /root/.cache/torch/hub/checkpoints/fasterrcnn_resnet50_fpn_coco-258fb6c6.pth\n"
          ]
        },
        {
          "output_type": "display_data",
          "data": {
            "text/plain": [
              "  0%|          | 0.00/160M [00:00<?, ?B/s]"
            ],
            "application/vnd.jupyter.widget-view+json": {
              "version_major": 2,
              "version_minor": 0,
              "model_id": "8717251a667042418c3b4f131b61b6ba"
            }
          },
          "metadata": {}
        }
      ],
      "source": [
        "categories = ['Zona de teste']\n",
        "classifier = core.Model(categories)"
      ]
    },
    {
      "cell_type": "markdown",
      "metadata": {
        "id": "gNNfnISOCHLD"
      },
      "source": [
        "Treinamento do classificador"
      ]
    },
    {
      "cell_type": "code",
      "execution_count": null,
      "metadata": {
        "id": "YrVQC5jbuTQI"
      },
      "outputs": [],
      "source": [
        "# history = classifier.fit(dataloader, validation_data, epochs = 30, verbose = True)"
      ]
    },
    {
      "cell_type": "markdown",
      "metadata": {
        "id": "2Mlq0gs3CK-T"
      },
      "source": [
        "Salvando o modelo"
      ]
    },
    {
      "cell_type": "code",
      "execution_count": null,
      "metadata": {
        "id": "DvVNVIG-cKbp"
      },
      "outputs": [],
      "source": [
        "#classifier.save('Data/Output_Data/Annotations/Models/Zona_de_Teste.pth')"
      ]
    },
    {
      "cell_type": "markdown",
      "metadata": {
        "id": "PN2TJp5vCUZb"
      },
      "source": [
        "Carregando o Modelo\n",
        "\n",
        "O GitHub não permite um Push de um arquivo do tamanho do modelo salvo. "
      ]
    },
    {
      "cell_type": "code",
      "execution_count": null,
      "metadata": {
        "id": "a6NvhxNOb_AK"
      },
      "outputs": [],
      "source": [
        "\n",
        "#classifier = Model.load('Data/Output_Data/Annotations//Models/Zona_de_Teste.pth', ['Zona de Teste'])"
      ]
    },
    {
      "cell_type": "markdown",
      "metadata": {
        "id": "hupgB2rQCm86"
      },
      "source": [
        "Função para a aplicação do classificador treinado em um arquivo de vídeo.\n",
        "\n",
        "\n",
        "A função \"detect_video\" disponível no package \"detecto\" apresentava alguns erros, por isso implementamos aqui a versão disponível no GitHub do Package e corrigimos os error. "
      ]
    },
    {
      "cell_type": "code",
      "execution_count": null,
      "metadata": {
        "id": "5Hy95b-MNh46"
      },
      "outputs": [],
      "source": [
        "def detect_video_1(model, input_file, output_file, fps=30, score_filter=0.6):\n",
        "    \"\"\"Takes in a video and produces an output video with object detection\n",
        "    run on it (i.e. displays boxes around detected objects in real-time).\n",
        "    Output videos should have the .avi file extension. Note: some apps,\n",
        "    such as macOS's QuickTime Player, have difficulty viewing these\n",
        "    output videos. It's recommended that you download and use\n",
        "    `VLC <https://www.videolan.org/vlc/index.html>`_ if this occurs.\n",
        "    :param model: The trained model with which to run object detection.\n",
        "    :type model: detecto.core.Model\n",
        "    :param input_file: The path to the input video.\n",
        "    :type input_file: str\n",
        "    :param output_file: The name of the output file. Should have a .avi\n",
        "        file extension.\n",
        "    :type output_file: str\n",
        "    :param fps: (Optional) Frames per second of the output video.\n",
        "        Defaults to 30.\n",
        "    :type fps: int\n",
        "    :param score_filter: (Optional) Minimum score required to show a\n",
        "        prediction. Defaults to 0.6.\n",
        "    :type score_filter: float\n",
        "    **Example**::\n",
        "        >>> from detecto.core import Model\n",
        "        >>> from detecto.visualize import detect_video\n",
        "        >>> model = Model.load('model_weights.pth', ['tick', 'gate'])\n",
        "        >>> detect_video(model, 'input_vid.mp4', 'output_vid.avi', score_filter=0.7)\n",
        "    \"\"\"\n",
        "\n",
        "    # Read in the video\n",
        "    video = cv2.VideoCapture(input_file)\n",
        "\n",
        "    # Video frame dimensions\n",
        "    frame_width = int(video.get(cv2.CAP_PROP_FRAME_WIDTH))\n",
        "    frame_height = int(video.get(cv2.CAP_PROP_FRAME_HEIGHT))\n",
        "\n",
        "    # Scale down frames when passing into model for faster speeds\n",
        "    scaled_size = 800\n",
        "    scale_down_factor = min(frame_height, frame_width) / scaled_size\n",
        "\n",
        "    # The VideoWriter with which we'll write our video with the boxes and labels\n",
        "    # Parameters: filename, fourcc, fps, frame_size\n",
        "    out = cv2.VideoWriter(output_file, cv2.VideoWriter_fourcc(*'DIVX'), fps, (frame_width, frame_height))\n",
        "\n",
        "    # Transform to apply on individual frames of the video\n",
        "    transform_frame = transforms.Compose([  # TODO Issue #16\n",
        "        transforms.ToPILImage(),\n",
        "        transforms.Resize(scaled_size),\n",
        "        transforms.ToTensor(),\n",
        "        normalize_transform(),\n",
        "    ])\n",
        "\n",
        "    # Loop through every frame of the video\n",
        "    while True:\n",
        "        ret, frame = video.read()\n",
        "        # Stop the loop when we're done with the video\n",
        "        if not ret:\n",
        "            break\n",
        "\n",
        "        # The transformed frame is what we'll feed into our model\n",
        "        # transformed_frame = transform_frame(frame)\n",
        "        transformed_frame = frame  # TODO: Issue #16\n",
        "        predictions = model.predict(transformed_frame)\n",
        "\n",
        "        # Add the top prediction of each class to the frame\n",
        "        for label, box, score in zip(*predictions):\n",
        "            if score < score_filter:\n",
        "                continue\n",
        "\n",
        "            # Since the predictions are for scaled down frames,\n",
        "            # we need to increase the box dimensions\n",
        "            # box *= scale_down_factor  # TODO Issue #16\n",
        "\n",
        "            # Create the box around each object detected\n",
        "            # Parameters: frame, (start_x, start_y), (end_x, end_y), (r, g, b), thickness\n",
        "\n",
        "            cv2.rectangle(frame, (int(box[0]), int(box[1])), (int(box[2]), int(box[3])), (255, 0, 0), 3)\n",
        "\n",
        "            # Write the label and score for the boxes\n",
        "            # Parameters: frame, text, (start_x, start_y), font, font scale, (r, g, b), thickness\n",
        "            cv2.putText(frame, '{}: {}'.format(label, round(score.item(), 2)), (int(box[0]), int(box[1]) - 10),\n",
        "                        cv2.FONT_HERSHEY_SIMPLEX, 0.5, (255, 0, 0), 3)\n",
        "\n",
        "        # Write this frame to our video file\n",
        "        out.write(frame)\n",
        "\n",
        "        # If the 'q' key is pressed, break from the loop\n",
        "        key = cv2.waitKey(1) & 0xFF\n",
        "        if key == ord('q'):\n",
        "            break\n",
        "\n",
        "    # When finished, release the video capture and writer objects\n",
        "    video.release()\n",
        "    out.release()\n",
        "\n",
        "    # Close all the frames\n",
        "    cv2.destroyAllWindows()"
      ]
    },
    {
      "cell_type": "markdown",
      "metadata": {
        "id": "JG3vFCSmDLlw"
      },
      "source": [
        "Aplicando o classificador treinados nos arquivos de vídeos"
      ]
    },
    {
      "cell_type": "code",
      "execution_count": null,
      "metadata": {
        "id": "tT4ZCSIcgnvz"
      },
      "outputs": [],
      "source": [
        "# detect_video_1(classifier, 'Data/Input_Data/Annotations/Videos/M1_25.mp4','Data/Output_Data/Annotations/Videos/M1_25_box.avi')"
      ]
    },
    {
      "cell_type": "code",
      "execution_count": null,
      "metadata": {
        "id": "_FeEsrArmMXv"
      },
      "outputs": [],
      "source": [
        "# detect_video_1(classifier, 'Data/Input_Data/Annotations/Videos/M6_225.mp4','Data/Output_Data/Annotations/Videos/M6_225_box.avi')"
      ]
    },
    {
      "cell_type": "code",
      "execution_count": null,
      "metadata": {
        "id": "HKa5gsrlmPRn"
      },
      "outputs": [],
      "source": [
        "# detect_video_1(classifier, 'Data/Input_Data/Annotations/Videos/M8_100.mp4','Data/Output_Data/Annotations/Videos/M8_100_box.avi')"
      ]
    },
    {
      "cell_type": "markdown",
      "metadata": {
        "id": "KLNZOn6em0qm"
      },
      "source": [
        "# Capturando os Frames"
      ]
    },
    {
      "cell_type": "markdown",
      "metadata": {
        "id": "Aa-xnQ-RDY_H"
      },
      "source": [
        "Lista com os videos que serão avaliados"
      ]
    },
    {
      "cell_type": "code",
      "execution_count": null,
      "metadata": {
        "id": "wANwIZRom33b"
      },
      "outputs": [],
      "source": [
        "Video_list = os.listdir('Data/Input_Data/Videos')"
      ]
    },
    {
      "cell_type": "markdown",
      "metadata": {
        "id": "VdNhuV8oDd84"
      },
      "source": [
        "Função para a captura dos frames\n",
        "\n",
        "Está comentada pois não precisa ser rodada"
      ]
    },
    {
      "cell_type": "markdown",
      "metadata": {
        "id": "0301mXXqnKX5"
      },
      "source": [
        "for i in Video_list:\n",
        "\n",
        "    # Carregando o Vídeo \n",
        "    Vid = cv2.VideoCapture('Data/Input_Data/Videos/'+ i)\n",
        "\n",
        "    # Estabelecendo o intervalo de captura dos frames\n",
        "    frameRate = 1*Vid.get(5)\n",
        "\n",
        "    # Frame atual\n",
        "    currentframe = 0\n",
        "    \n",
        "    while(True):\n",
        "\n",
        "        frameId = Vid.get(1)\n",
        "\n",
        "        # Carregando o frame do vídeo\n",
        "        ret,frame = Vid.read()\n",
        "    \n",
        "        if ret:\n",
        "            if (frameId % math.floor(frameRate) == 0):\n",
        "                # Criação das imagens\n",
        "                name = 'Data/Output_Data/Frames/' + str(i[:-4]) + '_' + str(currentframe) + '.png'\n",
        "                print ('Creating...' + name)\n",
        "        \n",
        "                # Salvando as imagens\n",
        "                cv2.imwrite(name, frame)\n",
        "        \n",
        "                # Contador\n",
        "                currentframe += 1\n",
        "        else:\n",
        "            break\n",
        "            \n",
        "cv2.destroyAllWindows()"
      ]
    },
    {
      "cell_type": "markdown",
      "metadata": {
        "id": "hwARpmwdosCf"
      },
      "source": [
        "# Cortando os frames na Zona de Teste"
      ]
    },
    {
      "cell_type": "markdown",
      "metadata": {
        "id": "UaYqJiufD9kF"
      },
      "source": [
        "Lista com os frames sendo avaliados"
      ]
    },
    {
      "cell_type": "code",
      "execution_count": null,
      "metadata": {
        "id": "3U6DJWlGo3PU"
      },
      "outputs": [],
      "source": [
        "frames_list = os.listdir('Data/Output_Data/Frames')"
      ]
    },
    {
      "cell_type": "markdown",
      "metadata": {
        "id": "E_udtO9TEAxd"
      },
      "source": [
        "Função para o corte dos frames\n",
        "\n",
        "Comentada pois não precisa ser rodada"
      ]
    },
    {
      "cell_type": "markdown",
      "metadata": {
        "id": "mozUJYwur9go"
      },
      "source": [
        "for i in frames_list:\n",
        "  im = cv2.imread(\"Data/Output_Data/Frames/\" + i)\n",
        "\n",
        "  #### Determinando as coordenadas da zona de teste\n",
        "  predictions = classifier.predict(im)\n",
        "  labels, box, scores = predictions\n",
        "\n",
        "  left = int(box[0][0])\n",
        "  right = int(box[0][2])\n",
        "  top = int(box[0][3])\n",
        "  bottom = int(box[0][1]) + 10\n",
        "\n",
        "  ##### Salvando a imagem recortada\n",
        "  im_crop = im[bottom:top, left:right]\n",
        "  name = 'Data/Output_Data/Frames_Cropped/' + str(i[:-4])+ '.png'\n",
        "  cv2.imwrite(name, im_crop)\n",
        "\n",
        "  #### Contador\n",
        "  print(i)"
      ]
    },
    {
      "cell_type": "markdown",
      "metadata": {
        "id": "Y5dBtNhwkAqc"
      },
      "source": [
        "# Separação dos conjunto de treino e teste"
      ]
    },
    {
      "cell_type": "code",
      "execution_count": null,
      "metadata": {
        "id": "bLN87uz4Mc-n"
      },
      "outputs": [],
      "source": [
        "data_dir = \"Data/Output_Data/Sets/\"\n",
        "\n",
        "#create training dir\n",
        "training_dir = os.path.join(data_dir,\"training\")\n",
        "if not os.path.isdir(training_dir):\n",
        "  os.mkdir(training_dir)\n",
        "\n",
        "#create ok dir in training\n",
        "ok_training_dir = os.path.join(training_dir,\"Ok\")\n",
        "if not os.path.isdir(ok_training_dir):\n",
        "  os.mkdir(ok_training_dir)\n",
        "\n",
        "#create crit dir in training\n",
        "crit_training_dir = os.path.join(training_dir,\"Crit\")\n",
        "if not os.path.isdir(crit_training_dir):\n",
        "  os.mkdir(crit_training_dir)\n",
        "\n",
        "#create validation dir\n",
        "validation_dir = os.path.join(data_dir,\"validation\")\n",
        "if not os.path.isdir(validation_dir):\n",
        "  os.mkdir(validation_dir)\n",
        "\n",
        "#create ok in validation\n",
        "ok_validation_dir = os.path.join(validation_dir,\"Ok\")\n",
        "if not os.path.isdir(ok_validation_dir):\n",
        "  os.mkdir(ok_validation_dir)\n",
        "\n",
        "#create cat in validation\n",
        "crit_validation_dir = os.path.join(validation_dir,\"Crit\")\n",
        "if not os.path.isdir(crit_validation_dir):\n",
        "  os.mkdir(crit_validation_dir)\n",
        "\n",
        "#create ok dir\n",
        "ok_dir = os.path.join(data_dir,\"Ok\")\n",
        "if not os.path.isdir(ok_dir):\n",
        "  os.mkdir(ok_dir)\n",
        "\n",
        "#create crit dir\n",
        "crit_dir = os.path.join(data_dir,\"Crit\")\n",
        "if not os.path.isdir(crit_dir):\n",
        "  os.mkdir(crit_dir)"
      ]
    },
    {
      "cell_type": "markdown",
      "metadata": {
        "id": "Z4I1d6yARZjx"
      },
      "source": [
        "#### Pasta com os frames\n",
        "path = \"Data/Output_Data/Frames_Cropped/\"\n",
        "\n",
        "#### Carrendo a lista com todas as imagens \n",
        "frames_list = os.listdir(path)"
      ]
    },
    {
      "cell_type": "markdown",
      "metadata": {
        "id": "kYM6McZRPqbb"
      },
      "source": [
        "for i in frames_list:\n",
        "  if i[3:6] == \"225\":\n",
        "    shutil.copy(path + i, crit_dir +'/'+ i)\n",
        "  else:\n",
        "    shutil.copy(path + i, ok_dir +'/'+ i)"
      ]
    },
    {
      "cell_type": "markdown",
      "metadata": {
        "id": "9dJvf3VcTWyA"
      },
      "source": [
        "split_size = 0.80\n",
        "ok_imgs_size = len(os.listdir(ok_dir))\n",
        "crit_imgs_size = len(os.listdir(crit_dir))\n",
        "\n",
        "for i,img in enumerate(os.listdir(crit_dir)):\n",
        "  if i < (crit_imgs_size * split_size):\n",
        "    shutil.move(crit_dir + '/' + img,crit_training_dir)\n",
        "  else:\n",
        "    shutil.move(crit_dir + '/' + img,crit_validation_dir)\n",
        "\n",
        "for i,img in enumerate(os.listdir(ok_dir)):\n",
        "  if i < (ok_imgs_size * split_size):\n",
        "    shutil.move(ok_dir + '/' + img,ok_training_dir)\n",
        "  else:\n",
        "    shutil.move(ok_dir + '/' + img,ok_validation_dir)"
      ]
    },
    {
      "cell_type": "markdown",
      "metadata": {
        "id": "3ZZkpfrRucc2"
      },
      "source": [
        "# Limiarização"
      ]
    },
    {
      "cell_type": "code",
      "execution_count": null,
      "metadata": {
        "id": "EccDJtXBlD-v"
      },
      "outputs": [],
      "source": [
        "# Pasta com os frames do conjunto de traino\n",
        "path_train = \"Data/Output_Data/Sets/training\"\n",
        "\n",
        "# Carrendo a lista com todas as imagens \n",
        "frames_list_crit = os.listdir(path_train + '/Crit')\n",
        "frames_list_ok = os.listdir(path_train + '/Ok')\n",
        "frames_list = frames_list_crit + frames_list_ok"
      ]
    },
    {
      "cell_type": "markdown",
      "metadata": {
        "id": "Rd5bGQgnvQpS"
      },
      "source": [
        "Avaliando uma imagem"
      ]
    },
    {
      "cell_type": "code",
      "execution_count": null,
      "metadata": {
        "colab": {
          "base_uri": "https://localhost:8080/",
          "height": 160
        },
        "id": "O4yqk69xE0YJ",
        "outputId": "196d2a20-7c94-4e07-add6-fe53f3e2f428"
      },
      "outputs": [
        {
          "output_type": "stream",
          "name": "stdout",
          "text": [
            "Caso M8_50_304.png\n"
          ]
        },
        {
          "output_type": "execute_result",
          "data": {
            "text/plain": [
              "<matplotlib.image.AxesImage at 0x7f67e9ff6460>"
            ]
          },
          "metadata": {},
          "execution_count": 7
        },
        {
          "output_type": "display_data",
          "data": {
            "text/plain": [
              "<Figure size 1152x864 with 2 Axes>"
            ],
            "image/png": "[encoded data removed]"
          },
          "metadata": {
            "needs_background": "light"
          }
        }
      ],
      "source": [
        "# Pasta com todos os frames\n",
        "path = \"Data/Output_Data/Frames_Cropped/\"\n",
        "\n",
        "#Nível do Threshold\n",
        "thresh = 200\n",
        "\n",
        "# Carregando a imagem\n",
        "src = cv2.imread(path + frames_list[2780],cv2.IMREAD_GRAYSCALE)\n",
        "print(\"Caso \" + str(frames_list[2780]))\n",
        "\n",
        "# Aplicando o Threshold\n",
        "th, dst = cv2.threshold(src, thresh = thresh, maxval = 255, type = eval('cv2.THRESH_BINARY'))\n",
        "\n",
        "# Plotando as imagens original e limiarizada\n",
        "fig, axes = plt.subplots(1, 2, figsize=(16, 12), sharex=True, sharey=True)\n",
        "ax = axes.ravel()\n",
        "ax[0].imshow(src,'gray')\n",
        "ax[1].imshow(dst,'gray')"
      ]
    },
    {
      "cell_type": "markdown",
      "metadata": {
        "id": "eW8fwupgvf0N"
      },
      "source": [
        "Aplicando a limiarização em todas as imagens"
      ]
    },
    {
      "cell_type": "code",
      "execution_count": null,
      "metadata": {
        "id": "cRYIrdYFvikd"
      },
      "outputs": [],
      "source": [
        "def limi(thresh):\n",
        "    \n",
        "    # Incializando uma lista para guardar as imagens\n",
        "    im_thresh = []\n",
        "    Case = []\n",
        "    q = []\n",
        "    Area_Not = []\n",
        "    Area_OK = []\n",
        "\n",
        "    # Aplicando a limiarização em todas as imagens\n",
        "    for j,i in enumerate(frames_list):\n",
        "\n",
        "        # Identificando a evolução do algortimo\n",
        "        if np.round(j%((len(frames_list)-1)/100),0) == 0:\n",
        "            print(\"Foram tratadas \" + str(np.round(j/len(frames_list)*100,0)) + \"% das imagens para o threshold de \" + str(thresh))\n",
        "\n",
        "        # Carregando a imagem\n",
        "        src = cv2.imread(path + i,cv2.IMREAD_GRAYSCALE)\n",
        "\n",
        "        # Aplicando a limiarização \n",
        "        th, dst = cv2.threshold(src, thresh = thresh, maxval = 255, type = eval('cv2.THRESH_BINARY'))\n",
        "\n",
        "        # Adicionando o resultado para a lista \n",
        "        im_thresh.append((dst == 255).sum()/np.size(dst)*100)\n",
        "        Case.append(i[1:3].replace('_', ''))\n",
        "        q.append(i[3:6].replace('_', ''))\n",
        "        if i[3:6].replace('_', '') == '225':\n",
        "            Area_Not.append((dst == 255).sum()/np.size(dst)*100)\n",
        "        else:\n",
        "            Area_OK.append((dst == 255).sum()/np.size(dst)*100)\n",
        "\n",
        "    itv = np.linspace(0,101,5000)\n",
        "\n",
        "    FP = []\n",
        "    FN = []\n",
        "\n",
        "    for i in itv:\n",
        "        FP.append((Area_OK >= i).sum()/len(Area_OK))\n",
        "        FN.append((Area_Not <= i).sum()/len(Area_Not))\n",
        "    \n",
        "    return im_thresh, FP, FN, q, itv\n"
      ]
    },
    {
      "cell_type": "code",
      "execution_count": null,
      "metadata": {
        "id": "N8ROJdEev2Wi"
      },
      "outputs": [],
      "source": [
        "# Array com os thresholds a ser avaliados \n",
        "threshes = np.array([180, 200, 220, 240])"
      ]
    },
    {
      "cell_type": "code",
      "execution_count": null,
      "metadata": {
        "colab": {
          "base_uri": "https://localhost:8080/"
        },
        "id": "uUt92FN5v2q5",
        "outputId": "2da6da75-1f6d-44f9-9937-0cb02c144952"
      },
      "outputs": [
        {
          "output_type": "stream",
          "name": "stdout",
          "text": [
            "Foram tratadas 0.0% das imagens para o threshold de 180\n",
            "Foram tratadas 1.0% das imagens para o threshold de 180\n",
            "Foram tratadas 3.0% das imagens para o threshold de 180\n",
            "Foram tratadas 5.0% das imagens para o threshold de 180\n",
            "Foram tratadas 6.0% das imagens para o threshold de 180\n",
            "Foram tratadas 8.0% das imagens para o threshold de 180\n",
            "Foram tratadas 10.0% das imagens para o threshold de 180\n",
            "Foram tratadas 11.0% das imagens para o threshold de 180\n",
            "Foram tratadas 13.0% das imagens para o threshold de 180\n",
            "Foram tratadas 15.0% das imagens para o threshold de 180\n",
            "Foram tratadas 16.0% das imagens para o threshold de 180\n",
            "Foram tratadas 18.0% das imagens para o threshold de 180\n",
            "Foram tratadas 20.0% das imagens para o threshold de 180\n",
            "Foram tratadas 21.0% das imagens para o threshold de 180\n",
            "Foram tratadas 23.0% das imagens para o threshold de 180\n",
            "Foram tratadas 25.0% das imagens para o threshold de 180\n",
            "Foram tratadas 26.0% das imagens para o threshold de 180\n",
            "Foram tratadas 28.0% das imagens para o threshold de 180\n",
            "Foram tratadas 30.0% das imagens para o threshold de 180\n",
            "Foram tratadas 31.0% das imagens para o threshold de 180\n",
            "Foram tratadas 33.0% das imagens para o threshold de 180\n",
            "Foram tratadas 35.0% das imagens para o threshold de 180\n",
            "Foram tratadas 36.0% das imagens para o threshold de 180\n",
            "Foram tratadas 38.0% das imagens para o threshold de 180\n",
            "Foram tratadas 40.0% das imagens para o threshold de 180\n",
            "Foram tratadas 41.0% das imagens para o threshold de 180\n",
            "Foram tratadas 43.0% das imagens para o threshold de 180\n",
            "Foram tratadas 45.0% das imagens para o threshold de 180\n",
            "Foram tratadas 46.0% das imagens para o threshold de 180\n",
            "Foram tratadas 48.0% das imagens para o threshold de 180\n",
            "Foram tratadas 50.0% das imagens para o threshold de 180\n",
            "Foram tratadas 51.0% das imagens para o threshold de 180\n",
            "Foram tratadas 53.0% das imagens para o threshold de 180\n",
            "Foram tratadas 55.0% das imagens para o threshold de 180\n",
            "Foram tratadas 56.0% das imagens para o threshold de 180\n",
            "Foram tratadas 58.0% das imagens para o threshold de 180\n",
            "Foram tratadas 60.0% das imagens para o threshold de 180\n",
            "Foram tratadas 61.0% das imagens para o threshold de 180\n",
            "Foram tratadas 63.0% das imagens para o threshold de 180\n",
            "Foram tratadas 65.0% das imagens para o threshold de 180\n",
            "Foram tratadas 66.0% das imagens para o threshold de 180\n",
            "Foram tratadas 68.0% das imagens para o threshold de 180\n",
            "Foram tratadas 70.0% das imagens para o threshold de 180\n",
            "Foram tratadas 71.0% das imagens para o threshold de 180\n",
            "Foram tratadas 73.0% das imagens para o threshold de 180\n",
            "Foram tratadas 75.0% das imagens para o threshold de 180\n",
            "Foram tratadas 76.0% das imagens para o threshold de 180\n",
            "Foram tratadas 78.0% das imagens para o threshold de 180\n",
            "Foram tratadas 80.0% das imagens para o threshold de 180\n",
            "Foram tratadas 81.0% das imagens para o threshold de 180\n",
            "Foram tratadas 83.0% das imagens para o threshold de 180\n",
            "Foram tratadas 85.0% das imagens para o threshold de 180\n",
            "Foram tratadas 86.0% das imagens para o threshold de 180\n",
            "Foram tratadas 88.0% das imagens para o threshold de 180\n",
            "Foram tratadas 90.0% das imagens para o threshold de 180\n",
            "Foram tratadas 91.0% das imagens para o threshold de 180\n",
            "Foram tratadas 93.0% das imagens para o threshold de 180\n",
            "Foram tratadas 95.0% das imagens para o threshold de 180\n",
            "Foram tratadas 96.0% das imagens para o threshold de 180\n",
            "Foram tratadas 98.0% das imagens para o threshold de 180\n",
            "Foram tratadas 100.0% das imagens para o threshold de 180\n",
            "Foram tratadas 0.0% das imagens para o threshold de 200\n",
            "Foram tratadas 1.0% das imagens para o threshold de 200\n",
            "Foram tratadas 3.0% das imagens para o threshold de 200\n",
            "Foram tratadas 5.0% das imagens para o threshold de 200\n",
            "Foram tratadas 6.0% das imagens para o threshold de 200\n",
            "Foram tratadas 8.0% das imagens para o threshold de 200\n",
            "Foram tratadas 10.0% das imagens para o threshold de 200\n",
            "Foram tratadas 11.0% das imagens para o threshold de 200\n",
            "Foram tratadas 13.0% das imagens para o threshold de 200\n",
            "Foram tratadas 15.0% das imagens para o threshold de 200\n",
            "Foram tratadas 16.0% das imagens para o threshold de 200\n",
            "Foram tratadas 18.0% das imagens para o threshold de 200\n",
            "Foram tratadas 20.0% das imagens para o threshold de 200\n",
            "Foram tratadas 21.0% das imagens para o threshold de 200\n",
            "Foram tratadas 23.0% das imagens para o threshold de 200\n",
            "Foram tratadas 25.0% das imagens para o threshold de 200\n",
            "Foram tratadas 26.0% das imagens para o threshold de 200\n",
            "Foram tratadas 28.0% das imagens para o threshold de 200\n",
            "Foram tratadas 30.0% das imagens para o threshold de 200\n",
            "Foram tratadas 31.0% das imagens para o threshold de 200\n",
            "Foram tratadas 33.0% das imagens para o threshold de 200\n",
            "Foram tratadas 35.0% das imagens para o threshold de 200\n",
            "Foram tratadas 36.0% das imagens para o threshold de 200\n",
            "Foram tratadas 38.0% das imagens para o threshold de 200\n",
            "Foram tratadas 40.0% das imagens para o threshold de 200\n",
            "Foram tratadas 41.0% das imagens para o threshold de 200\n",
            "Foram tratadas 43.0% das imagens para o threshold de 200\n",
            "Foram tratadas 45.0% das imagens para o threshold de 200\n",
            "Foram tratadas 46.0% das imagens para o threshold de 200\n",
            "Foram tratadas 48.0% das imagens para o threshold de 200\n",
            "Foram tratadas 50.0% das imagens para o threshold de 200\n",
            "Foram tratadas 51.0% das imagens para o threshold de 200\n",
            "Foram tratadas 53.0% das imagens para o threshold de 200\n",
            "Foram tratadas 55.0% das imagens para o threshold de 200\n",
            "Foram tratadas 56.0% das imagens para o threshold de 200\n",
            "Foram tratadas 58.0% das imagens para o threshold de 200\n",
            "Foram tratadas 60.0% das imagens para o threshold de 200\n",
            "Foram tratadas 61.0% das imagens para o threshold de 200\n",
            "Foram tratadas 63.0% das imagens para o threshold de 200\n",
            "Foram tratadas 65.0% das imagens para o threshold de 200\n",
            "Foram tratadas 66.0% das imagens para o threshold de 200\n",
            "Foram tratadas 68.0% das imagens para o threshold de 200\n",
            "Foram tratadas 70.0% das imagens para o threshold de 200\n",
            "Foram tratadas 71.0% das imagens para o threshold de 200\n",
            "Foram tratadas 73.0% das imagens para o threshold de 200\n",
            "Foram tratadas 75.0% das imagens para o threshold de 200\n",
            "Foram tratadas 76.0% das imagens para o threshold de 200\n",
            "Foram tratadas 78.0% das imagens para o threshold de 200\n",
            "Foram tratadas 80.0% das imagens para o threshold de 200\n",
            "Foram tratadas 81.0% das imagens para o threshold de 200\n",
            "Foram tratadas 83.0% das imagens para o threshold de 200\n",
            "Foram tratadas 85.0% das imagens para o threshold de 200\n",
            "Foram tratadas 86.0% das imagens para o threshold de 200\n",
            "Foram tratadas 88.0% das imagens para o threshold de 200\n",
            "Foram tratadas 90.0% das imagens para o threshold de 200\n",
            "Foram tratadas 91.0% das imagens para o threshold de 200\n",
            "Foram tratadas 93.0% das imagens para o threshold de 200\n",
            "Foram tratadas 95.0% das imagens para o threshold de 200\n",
            "Foram tratadas 96.0% das imagens para o threshold de 200\n",
            "Foram tratadas 98.0% das imagens para o threshold de 200\n",
            "Foram tratadas 100.0% das imagens para o threshold de 200\n",
            "Foram tratadas 0.0% das imagens para o threshold de 220\n",
            "Foram tratadas 1.0% das imagens para o threshold de 220\n",
            "Foram tratadas 3.0% das imagens para o threshold de 220\n",
            "Foram tratadas 5.0% das imagens para o threshold de 220\n",
            "Foram tratadas 6.0% das imagens para o threshold de 220\n",
            "Foram tratadas 8.0% das imagens para o threshold de 220\n",
            "Foram tratadas 10.0% das imagens para o threshold de 220\n",
            "Foram tratadas 11.0% das imagens para o threshold de 220\n",
            "Foram tratadas 13.0% das imagens para o threshold de 220\n",
            "Foram tratadas 15.0% das imagens para o threshold de 220\n",
            "Foram tratadas 16.0% das imagens para o threshold de 220\n",
            "Foram tratadas 18.0% das imagens para o threshold de 220\n",
            "Foram tratadas 20.0% das imagens para o threshold de 220\n",
            "Foram tratadas 21.0% das imagens para o threshold de 220\n",
            "Foram tratadas 23.0% das imagens para o threshold de 220\n",
            "Foram tratadas 25.0% das imagens para o threshold de 220\n",
            "Foram tratadas 26.0% das imagens para o threshold de 220\n",
            "Foram tratadas 28.0% das imagens para o threshold de 220\n",
            "Foram tratadas 30.0% das imagens para o threshold de 220\n",
            "Foram tratadas 31.0% das imagens para o threshold de 220\n",
            "Foram tratadas 33.0% das imagens para o threshold de 220\n",
            "Foram tratadas 35.0% das imagens para o threshold de 220\n",
            "Foram tratadas 36.0% das imagens para o threshold de 220\n",
            "Foram tratadas 38.0% das imagens para o threshold de 220\n",
            "Foram tratadas 40.0% das imagens para o threshold de 220\n",
            "Foram tratadas 41.0% das imagens para o threshold de 220\n",
            "Foram tratadas 43.0% das imagens para o threshold de 220\n",
            "Foram tratadas 45.0% das imagens para o threshold de 220\n",
            "Foram tratadas 46.0% das imagens para o threshold de 220\n",
            "Foram tratadas 48.0% das imagens para o threshold de 220\n",
            "Foram tratadas 50.0% das imagens para o threshold de 220\n",
            "Foram tratadas 51.0% das imagens para o threshold de 220\n",
            "Foram tratadas 53.0% das imagens para o threshold de 220\n",
            "Foram tratadas 55.0% das imagens para o threshold de 220\n",
            "Foram tratadas 56.0% das imagens para o threshold de 220\n",
            "Foram tratadas 58.0% das imagens para o threshold de 220\n",
            "Foram tratadas 60.0% das imagens para o threshold de 220\n",
            "Foram tratadas 61.0% das imagens para o threshold de 220\n",
            "Foram tratadas 63.0% das imagens para o threshold de 220\n",
            "Foram tratadas 65.0% das imagens para o threshold de 220\n",
            "Foram tratadas 66.0% das imagens para o threshold de 220\n",
            "Foram tratadas 68.0% das imagens para o threshold de 220\n",
            "Foram tratadas 70.0% das imagens para o threshold de 220\n",
            "Foram tratadas 71.0% das imagens para o threshold de 220\n",
            "Foram tratadas 73.0% das imagens para o threshold de 220\n",
            "Foram tratadas 75.0% das imagens para o threshold de 220\n",
            "Foram tratadas 76.0% das imagens para o threshold de 220\n",
            "Foram tratadas 78.0% das imagens para o threshold de 220\n",
            "Foram tratadas 80.0% das imagens para o threshold de 220\n",
            "Foram tratadas 81.0% das imagens para o threshold de 220\n",
            "Foram tratadas 83.0% das imagens para o threshold de 220\n",
            "Foram tratadas 85.0% das imagens para o threshold de 220\n",
            "Foram tratadas 86.0% das imagens para o threshold de 220\n",
            "Foram tratadas 88.0% das imagens para o threshold de 220\n",
            "Foram tratadas 90.0% das imagens para o threshold de 220\n",
            "Foram tratadas 91.0% das imagens para o threshold de 220\n",
            "Foram tratadas 93.0% das imagens para o threshold de 220\n",
            "Foram tratadas 95.0% das imagens para o threshold de 220\n",
            "Foram tratadas 96.0% das imagens para o threshold de 220\n",
            "Foram tratadas 98.0% das imagens para o threshold de 220\n",
            "Foram tratadas 100.0% das imagens para o threshold de 220\n",
            "Foram tratadas 0.0% das imagens para o threshold de 240\n",
            "Foram tratadas 1.0% das imagens para o threshold de 240\n",
            "Foram tratadas 3.0% das imagens para o threshold de 240\n",
            "Foram tratadas 5.0% das imagens para o threshold de 240\n",
            "Foram tratadas 6.0% das imagens para o threshold de 240\n",
            "Foram tratadas 8.0% das imagens para o threshold de 240\n",
            "Foram tratadas 10.0% das imagens para o threshold de 240\n",
            "Foram tratadas 11.0% das imagens para o threshold de 240\n",
            "Foram tratadas 13.0% das imagens para o threshold de 240\n",
            "Foram tratadas 15.0% das imagens para o threshold de 240\n",
            "Foram tratadas 16.0% das imagens para o threshold de 240\n",
            "Foram tratadas 18.0% das imagens para o threshold de 240\n",
            "Foram tratadas 20.0% das imagens para o threshold de 240\n",
            "Foram tratadas 21.0% das imagens para o threshold de 240\n",
            "Foram tratadas 23.0% das imagens para o threshold de 240\n",
            "Foram tratadas 25.0% das imagens para o threshold de 240\n",
            "Foram tratadas 26.0% das imagens para o threshold de 240\n",
            "Foram tratadas 28.0% das imagens para o threshold de 240\n",
            "Foram tratadas 30.0% das imagens para o threshold de 240\n",
            "Foram tratadas 31.0% das imagens para o threshold de 240\n",
            "Foram tratadas 33.0% das imagens para o threshold de 240\n",
            "Foram tratadas 35.0% das imagens para o threshold de 240\n",
            "Foram tratadas 36.0% das imagens para o threshold de 240\n",
            "Foram tratadas 38.0% das imagens para o threshold de 240\n",
            "Foram tratadas 40.0% das imagens para o threshold de 240\n",
            "Foram tratadas 41.0% das imagens para o threshold de 240\n",
            "Foram tratadas 43.0% das imagens para o threshold de 240\n",
            "Foram tratadas 45.0% das imagens para o threshold de 240\n",
            "Foram tratadas 46.0% das imagens para o threshold de 240\n",
            "Foram tratadas 48.0% das imagens para o threshold de 240\n",
            "Foram tratadas 50.0% das imagens para o threshold de 240\n",
            "Foram tratadas 51.0% das imagens para o threshold de 240\n",
            "Foram tratadas 53.0% das imagens para o threshold de 240\n",
            "Foram tratadas 55.0% das imagens para o threshold de 240\n",
            "Foram tratadas 56.0% das imagens para o threshold de 240\n",
            "Foram tratadas 58.0% das imagens para o threshold de 240\n",
            "Foram tratadas 60.0% das imagens para o threshold de 240\n",
            "Foram tratadas 61.0% das imagens para o threshold de 240\n",
            "Foram tratadas 63.0% das imagens para o threshold de 240\n",
            "Foram tratadas 65.0% das imagens para o threshold de 240\n",
            "Foram tratadas 66.0% das imagens para o threshold de 240\n",
            "Foram tratadas 68.0% das imagens para o threshold de 240\n",
            "Foram tratadas 70.0% das imagens para o threshold de 240\n",
            "Foram tratadas 71.0% das imagens para o threshold de 240\n",
            "Foram tratadas 73.0% das imagens para o threshold de 240\n",
            "Foram tratadas 75.0% das imagens para o threshold de 240\n",
            "Foram tratadas 76.0% das imagens para o threshold de 240\n",
            "Foram tratadas 78.0% das imagens para o threshold de 240\n",
            "Foram tratadas 80.0% das imagens para o threshold de 240\n",
            "Foram tratadas 81.0% das imagens para o threshold de 240\n",
            "Foram tratadas 83.0% das imagens para o threshold de 240\n",
            "Foram tratadas 85.0% das imagens para o threshold de 240\n",
            "Foram tratadas 86.0% das imagens para o threshold de 240\n",
            "Foram tratadas 88.0% das imagens para o threshold de 240\n",
            "Foram tratadas 90.0% das imagens para o threshold de 240\n",
            "Foram tratadas 91.0% das imagens para o threshold de 240\n",
            "Foram tratadas 93.0% das imagens para o threshold de 240\n",
            "Foram tratadas 95.0% das imagens para o threshold de 240\n",
            "Foram tratadas 96.0% das imagens para o threshold de 240\n",
            "Foram tratadas 98.0% das imagens para o threshold de 240\n",
            "Foram tratadas 100.0% das imagens para o threshold de 240\n"
          ]
        }
      ],
      "source": [
        "# Listas vazias\n",
        "FP = []\n",
        "FN = []\n",
        "\n",
        "# Cálculo dos Falsos Positivos e Falsos Negativos\n",
        "for i in threshes:\n",
        "    im_thresh_t, FP_t, FN_t, q, itv = limi(i)\n",
        "    FP.append(FP_t)\n",
        "    FN.append(FN_t)"
      ]
    },
    {
      "cell_type": "code",
      "execution_count": null,
      "metadata": {
        "id": "H4SINo1Nv4aK",
        "colab": {
          "base_uri": "https://localhost:8080/",
          "height": 462
        },
        "outputId": "ab7f1c78-6a95-431d-e3ab-07c9a40b78e6"
      },
      "outputs": [
        {
          "output_type": "stream",
          "name": "stdout",
          "text": [
            "O valor da AUC para um threshold de 180 é de 0.9345297858508044\n",
            "O valor da AUC para um threshold de 200 é de 0.9923523905424364\n",
            "O valor da AUC para um threshold de 220 é de 0.993911216803453\n",
            "O valor da AUC para um threshold de 240 é de 0.9898930476055471\n"
          ]
        },
        {
          "output_type": "display_data",
          "data": {
            "text/plain": [
              "<Figure size 576x432 with 2 Axes>"
            ],
            "image/png": "[encoded data removed]"
          },
          "metadata": {
            "needs_background": "light"
          }
        }
      ],
      "source": [
        "# plot da ROC e cálculo da AUC-ROC\n",
        "fig, ax = plt.subplots(figsize = (8,6))\n",
        "\n",
        "# Lista vazia\n",
        "AUC = []\n",
        "\n",
        "for i in range(len(FP)):\n",
        "    # Cálculo da AUC-ROC\n",
        "    AUC_i = np.sum((np.array(FN[i][1:]) - np.array(FN[i][:-1]))*((1-np.array(FP[i][1:]))/2 + (1-np.array(FP[i][:-1]))/2))\n",
        "    AUC.append(AUC_i)\n",
        "    print(\"O valor da AUC para um threshold de \" +str(threshes[i]) + \" é de \" + str(AUC_i)) \n",
        "    \n",
        "    # Plot da ROC\n",
        "    plt.plot(FP[i],1 - np.array(FN[i]), label = 'T = ' + str(threshes[i]) + ' - AUC = ' + str(np.round(AUC_i,4)))\n",
        "\n",
        "\n",
        "\n",
        "plt.xlim([-0.025,1.025])\n",
        "plt.ylim([-0.025,1.025])\n",
        "\n",
        "plt.grid()\n",
        "plt.legend()\n",
        "\n",
        "plt.ylabel('Taxa de Verdadeiro Positivo [-]')\n",
        "plt.xlabel('Taxa de Falso Positivo [-]')\n",
        "\n",
        "ax_new = fig.add_axes([0.45, 0.45, 0.35, 0.35])\n",
        "for i in range(len(FP)):\n",
        "    ax_new.plot(FP[i],1 - np.array(FN[i]))\n",
        "\n",
        "ax_new.set_xlim([-0.002, 0.15])\n",
        "ax_new.set_ylim([0.85, 1.002])\n",
        "ax.indicate_inset_zoom(ax_new)\n",
        "\n",
        "ax_new.grid()\n",
        "plt.savefig(\"Plots/Threshold/ROC.pdf\", format=\"pdf\", bbox_inches = \"tight\")"
      ]
    },
    {
      "cell_type": "code",
      "execution_count": null,
      "metadata": {
        "id": "ztFmMKvUwHv8"
      },
      "outputs": [],
      "source": [
        "# Definição do Threshold com a máxima AUC\n",
        "#thresh = threshes[np.array(AUC).argmax()]\n",
        "thresh = 220"
      ]
    },
    {
      "cell_type": "code",
      "execution_count": null,
      "metadata": {
        "colab": {
          "base_uri": "https://localhost:8080/"
        },
        "id": "x6OUNlBlwLeg",
        "outputId": "2c8cd46a-537e-42eb-a675-73b7cc511de9"
      },
      "outputs": [
        {
          "output_type": "stream",
          "name": "stdout",
          "text": [
            "Foram tratadas 0.0% das imagens para o threshold de 220\n",
            "Foram tratadas 1.0% das imagens para o threshold de 220\n",
            "Foram tratadas 3.0% das imagens para o threshold de 220\n",
            "Foram tratadas 5.0% das imagens para o threshold de 220\n",
            "Foram tratadas 6.0% das imagens para o threshold de 220\n",
            "Foram tratadas 8.0% das imagens para o threshold de 220\n",
            "Foram tratadas 10.0% das imagens para o threshold de 220\n",
            "Foram tratadas 11.0% das imagens para o threshold de 220\n",
            "Foram tratadas 13.0% das imagens para o threshold de 220\n",
            "Foram tratadas 15.0% das imagens para o threshold de 220\n",
            "Foram tratadas 16.0% das imagens para o threshold de 220\n",
            "Foram tratadas 18.0% das imagens para o threshold de 220\n",
            "Foram tratadas 20.0% das imagens para o threshold de 220\n",
            "Foram tratadas 21.0% das imagens para o threshold de 220\n",
            "Foram tratadas 23.0% das imagens para o threshold de 220\n",
            "Foram tratadas 25.0% das imagens para o threshold de 220\n",
            "Foram tratadas 26.0% das imagens para o threshold de 220\n",
            "Foram tratadas 28.0% das imagens para o threshold de 220\n",
            "Foram tratadas 30.0% das imagens para o threshold de 220\n",
            "Foram tratadas 31.0% das imagens para o threshold de 220\n",
            "Foram tratadas 33.0% das imagens para o threshold de 220\n",
            "Foram tratadas 35.0% das imagens para o threshold de 220\n",
            "Foram tratadas 36.0% das imagens para o threshold de 220\n",
            "Foram tratadas 38.0% das imagens para o threshold de 220\n",
            "Foram tratadas 40.0% das imagens para o threshold de 220\n",
            "Foram tratadas 41.0% das imagens para o threshold de 220\n",
            "Foram tratadas 43.0% das imagens para o threshold de 220\n",
            "Foram tratadas 45.0% das imagens para o threshold de 220\n",
            "Foram tratadas 46.0% das imagens para o threshold de 220\n",
            "Foram tratadas 48.0% das imagens para o threshold de 220\n",
            "Foram tratadas 50.0% das imagens para o threshold de 220\n",
            "Foram tratadas 51.0% das imagens para o threshold de 220\n",
            "Foram tratadas 53.0% das imagens para o threshold de 220\n",
            "Foram tratadas 55.0% das imagens para o threshold de 220\n",
            "Foram tratadas 56.0% das imagens para o threshold de 220\n",
            "Foram tratadas 58.0% das imagens para o threshold de 220\n",
            "Foram tratadas 60.0% das imagens para o threshold de 220\n",
            "Foram tratadas 61.0% das imagens para o threshold de 220\n",
            "Foram tratadas 63.0% das imagens para o threshold de 220\n",
            "Foram tratadas 65.0% das imagens para o threshold de 220\n",
            "Foram tratadas 66.0% das imagens para o threshold de 220\n",
            "Foram tratadas 68.0% das imagens para o threshold de 220\n",
            "Foram tratadas 70.0% das imagens para o threshold de 220\n",
            "Foram tratadas 71.0% das imagens para o threshold de 220\n",
            "Foram tratadas 73.0% das imagens para o threshold de 220\n",
            "Foram tratadas 75.0% das imagens para o threshold de 220\n",
            "Foram tratadas 76.0% das imagens para o threshold de 220\n",
            "Foram tratadas 78.0% das imagens para o threshold de 220\n",
            "Foram tratadas 80.0% das imagens para o threshold de 220\n",
            "Foram tratadas 81.0% das imagens para o threshold de 220\n",
            "Foram tratadas 83.0% das imagens para o threshold de 220\n",
            "Foram tratadas 85.0% das imagens para o threshold de 220\n",
            "Foram tratadas 86.0% das imagens para o threshold de 220\n",
            "Foram tratadas 88.0% das imagens para o threshold de 220\n",
            "Foram tratadas 90.0% das imagens para o threshold de 220\n",
            "Foram tratadas 91.0% das imagens para o threshold de 220\n",
            "Foram tratadas 93.0% das imagens para o threshold de 220\n",
            "Foram tratadas 95.0% das imagens para o threshold de 220\n",
            "Foram tratadas 96.0% das imagens para o threshold de 220\n",
            "Foram tratadas 98.0% das imagens para o threshold de 220\n",
            "Foram tratadas 100.0% das imagens para o threshold de 220\n"
          ]
        }
      ],
      "source": [
        "# Cálculo do valor atualizado\n",
        "im_thresh, FP, FN, q,itv = limi(thresh)"
      ]
    },
    {
      "cell_type": "code",
      "execution_count": null,
      "metadata": {
        "id": "cblAXTzTzTVr"
      },
      "outputs": [],
      "source": [
        "data={'Q': q,'TH':im_thresh}\n",
        "df=pd.DataFrame(data)"
      ]
    },
    {
      "cell_type": "code",
      "execution_count": null,
      "metadata": {
        "id": "daRiZk12zUeD"
      },
      "outputs": [],
      "source": [
        "q = df['Q'].value_counts().index"
      ]
    },
    {
      "cell_type": "code",
      "execution_count": null,
      "metadata": {
        "id": "YxMO2ngNwVMj",
        "colab": {
          "base_uri": "https://localhost:8080/",
          "height": 279
        },
        "outputId": "a3fcc053-cad4-488d-e095-a4d7acd176f4"
      },
      "outputs": [
        {
          "output_type": "display_data",
          "data": {
            "text/plain": [
              "<Figure size 432x288 with 1 Axes>"
            ],
            "image/png": "[encoded data removed]"
          },
          "metadata": {
            "needs_background": "light"
          }
        }
      ],
      "source": [
        "# Lista para gravar as médias e desvios padrão\n",
        "mean = []\n",
        "std = []\n",
        "\n",
        "# Cálculo das médias, desvios padrão e plotagem\n",
        "for i in range(9):\n",
        "    mean.append(df[df['Q'] == str(q[i])]['TH'].mean())\n",
        "    std.append(df[df['Q'] == str(q[i])]['TH'].std())\n",
        "    \n",
        "    # Plotagem completa dos resultados \n",
        "    plt.plot(float(q[i])*np.ones(len(df[df['Q'] == str(q[i])]['TH'])), df[df['Q'] == str(q[i])]['TH'],'r.')\n",
        "plt.grid()\n",
        "plt.xlabel('q [W]')\n",
        "plt.ylim([-0.5,10.5])\n",
        "plt.ylabel('Porcentagem da área [%]')\n",
        "plt.errorbar(np.float_(q[:9]),mean, std, color='blue', marker='o', linestyle='')\n",
        "plt.errorbar(np.float_(q[:9]),mean, std, color='black', linestyle='',capsize=5)\n",
        "plt.savefig('Plots/Threshold/Threshold_full.pdf', format = 'pdf',bbox_inches='tight')"
      ]
    },
    {
      "cell_type": "code",
      "execution_count": null,
      "metadata": {
        "colab": {
          "base_uri": "https://localhost:8080/",
          "height": 279
        },
        "id": "pLSZkR-wyura",
        "outputId": "d7b13f0f-2b6b-429b-c14a-d171c538b16c"
      },
      "outputs": [
        {
          "output_type": "display_data",
          "data": {
            "text/plain": [
              "<Figure size 432x288 with 1 Axes>"
            ],
            "image/png": "[encoded data removed]"
          },
          "metadata": {
            "needs_background": "light"
          }
        }
      ],
      "source": [
        "# Plotagem apenas das médias e desvios padrão\n",
        "plt.grid()\n",
        "plt.xlabel('q [W]')\n",
        "plt.ylabel('Porcentagem da área [%]')\n",
        "plt.ylim([-0.5,10.5])\n",
        "plt.errorbar(np.float_(q[:9]),mean, std, color='blue', marker='o', linestyle='')\n",
        "plt.errorbar(np.float_(q[:9]),mean, std, color='black', linestyle='',capsize=5)\n",
        "plt.savefig('Plots/Threshold/Threshold.pdf', format = 'pdf', bbox_inches='tight')"
      ]
    },
    {
      "cell_type": "code",
      "source": [
        "plt.plot(itv, 1 - (np.array(FP) + np.array(FN)))\n",
        "plt.xlim([-0.1,5.1])\n",
        "plt.ylim([0.49,1.01])\n",
        "plt.grid()\n",
        "plt.ylabel('Acurácia [-]')\n",
        "plt.xlabel('Porcentagem da área [%]')\n",
        "plt.savefig('Plots/Threshold/Acurácia.pdf', format = 'pdf', bbox_inches='tight')"
      ],
      "metadata": {
        "colab": {
          "base_uri": "https://localhost:8080/",
          "height": 280
        },
        "id": "b79IXQ263cpV",
        "outputId": "a4cc4a45-4f82-4b22-cdaa-27f79afbd4a3"
      },
      "execution_count": null,
      "outputs": [
        {
          "output_type": "display_data",
          "data": {
            "text/plain": [
              "<Figure size 432x288 with 1 Axes>"
            ],
            "image/png": "[encoded data removed]"
          },
          "metadata": {
            "needs_background": "light"
          }
        }
      ]
    },
    {
      "cell_type": "code",
      "source": [],
      "metadata": {
        "id": "lRIU8TQQrcc2"
      },
      "execution_count": null,
      "outputs": []
    },
    {
      "cell_type": "code",
      "source": [
        "index = np.array(1 - (np.array(FP) + np.array(FN))).argmax()\n",
        "\n",
        "print(\"A Acurácia do modelo no conjunto de treino é de \" + str(np.round(np.array(1 - (np.array(FP) + np.array(FN)))[index], 4)) + \" para um threshold de \" + str(np.round(itv[index] ,3)))"
      ],
      "metadata": {
        "colab": {
          "base_uri": "https://localhost:8080/"
        },
        "id": "odJAqfJ95Utr",
        "outputId": "be315e00-b46f-4600-d5eb-ce169b6c5f37"
      },
      "execution_count": null,
      "outputs": [
        {
          "output_type": "stream",
          "name": "stdout",
          "text": [
            "A Acurácia do modelo no conjunto de treino é de 0.9232 para um threshold de 1.452\n"
          ]
        }
      ]
    },
    {
      "cell_type": "code",
      "source": [
        "# Pasta com os frames do conjunto de traino\n",
        "path_test = \"Data/Output_Data/Sets/validation\"\n",
        "\n",
        "# Carrendo a lista com todas as imagens \n",
        "frames_list_crit = os.listdir(path_test + '/Crit')\n",
        "frames_list_ok = os.listdir(path_test + '/Ok')\n",
        "frames_list = frames_list_crit + frames_list_ok"
      ],
      "metadata": {
        "id": "xzaHgQbW6DVD"
      },
      "execution_count": null,
      "outputs": []
    },
    {
      "cell_type": "code",
      "source": [
        "# Cálculo do valor atualizado\n",
        "im_thresh, FP, FN, q,itv = limi(thresh)"
      ],
      "metadata": {
        "colab": {
          "base_uri": "https://localhost:8080/",
          "height": 486
        },
        "id": "sgCnWNmo6OMb",
        "outputId": "16551047-b352-4f07-ab1d-4c9927e6e455"
      },
      "execution_count": null,
      "outputs": [
        {
          "output_type": "stream",
          "name": "stdout",
          "text": [
            "Foram tratadas 0.0% das imagens para o threshold de 220\n",
            "Foram tratadas 1.0% das imagens para o threshold de 220\n",
            "Foram tratadas 3.0% das imagens para o threshold de 220\n",
            "Foram tratadas 4.0% das imagens para o threshold de 220\n",
            "Foram tratadas 6.0% das imagens para o threshold de 220\n",
            "Foram tratadas 9.0% das imagens para o threshold de 220\n",
            "Foram tratadas 11.0% das imagens para o threshold de 220\n",
            "Foram tratadas 12.0% das imagens para o threshold de 220\n",
            "Foram tratadas 14.0% das imagens para o threshold de 220\n"
          ]
        },
        {
          "output_type": "error",
          "ename": "KeyboardInterrupt",
          "evalue": "ignored",
          "traceback": [
            "\u001b[0;31m---------------------------------------------------------------------------\u001b[0m",
            "\u001b[0;31mKeyboardInterrupt\u001b[0m                         Traceback (most recent call last)",
            "\u001b[0;32m<ipython-input-36-3e5432e36772>\u001b[0m in \u001b[0;36m<module>\u001b[0;34m\u001b[0m\n\u001b[1;32m      1\u001b[0m \u001b[0;31m# Cálculo do valor atualizado\u001b[0m\u001b[0;34m\u001b[0m\u001b[0;34m\u001b[0m\u001b[0;34m\u001b[0m\u001b[0m\n\u001b[0;32m----> 2\u001b[0;31m \u001b[0mim_thresh\u001b[0m\u001b[0;34m,\u001b[0m \u001b[0mFP\u001b[0m\u001b[0;34m,\u001b[0m \u001b[0mFN\u001b[0m\u001b[0;34m,\u001b[0m \u001b[0mq\u001b[0m\u001b[0;34m,\u001b[0m\u001b[0mitv\u001b[0m \u001b[0;34m=\u001b[0m \u001b[0mlimi\u001b[0m\u001b[0;34m(\u001b[0m\u001b[0mthresh\u001b[0m\u001b[0;34m)\u001b[0m\u001b[0;34m\u001b[0m\u001b[0;34m\u001b[0m\u001b[0m\n\u001b[0m",
            "\u001b[0;32m<ipython-input-25-89ca71033035>\u001b[0m in \u001b[0;36mlimi\u001b[0;34m(thresh)\u001b[0m\n\u001b[1;32m     16\u001b[0m \u001b[0;34m\u001b[0m\u001b[0m\n\u001b[1;32m     17\u001b[0m         \u001b[0;31m# Carregando a imagem\u001b[0m\u001b[0;34m\u001b[0m\u001b[0;34m\u001b[0m\u001b[0;34m\u001b[0m\u001b[0m\n\u001b[0;32m---> 18\u001b[0;31m         \u001b[0msrc\u001b[0m \u001b[0;34m=\u001b[0m \u001b[0mcv2\u001b[0m\u001b[0;34m.\u001b[0m\u001b[0mimread\u001b[0m\u001b[0;34m(\u001b[0m\u001b[0mpath\u001b[0m \u001b[0;34m+\u001b[0m \u001b[0mi\u001b[0m\u001b[0;34m,\u001b[0m\u001b[0mcv2\u001b[0m\u001b[0;34m.\u001b[0m\u001b[0mIMREAD_GRAYSCALE\u001b[0m\u001b[0;34m)\u001b[0m\u001b[0;34m\u001b[0m\u001b[0;34m\u001b[0m\u001b[0m\n\u001b[0m\u001b[1;32m     19\u001b[0m \u001b[0;34m\u001b[0m\u001b[0m\n\u001b[1;32m     20\u001b[0m         \u001b[0;31m# Aplicando a limiarização\u001b[0m\u001b[0;34m\u001b[0m\u001b[0;34m\u001b[0m\u001b[0;34m\u001b[0m\u001b[0m\n",
            "\u001b[0;31mKeyboardInterrupt\u001b[0m: "
          ]
        }
      ]
    },
    {
      "cell_type": "code",
      "source": [
        "print(\"A Acurácia do modelo no conjunto de teste é de \" + str(np.round(np.array(1 - (np.array(FP) + np.array(FN)))[index], 4)) + \" para um threshold de \" + str(np.round(itv[index] ,3)))"
      ],
      "metadata": {
        "colab": {
          "base_uri": "https://localhost:8080/"
        },
        "id": "w2BBvHyF8JKT",
        "outputId": "50007030-dc07-4eac-fa22-f8a9380a4ce6"
      },
      "execution_count": null,
      "outputs": [
        {
          "output_type": "stream",
          "name": "stdout",
          "text": [
            "A Acurácia do modelo no conjunto de teste é de 0.8304 para um threshold de 1.452\n"
          ]
        }
      ]
    },
    {
      "cell_type": "markdown",
      "metadata": {
        "id": "P2dKgNL0Ln9C"
      },
      "source": [
        "# Aprendizado Profundo"
      ]
    },
    {
      "cell_type": "code",
      "execution_count": null,
      "metadata": {
        "colab": {
          "base_uri": "https://localhost:8080/"
        },
        "id": "hH4YtYkkVeDN",
        "outputId": "f843676a-3edd-4264-f75f-218c4e691ea7"
      },
      "outputs": [
        {
          "output_type": "stream",
          "name": "stdout",
          "text": [
            "Found 7461 images belonging to 2 classes.\n",
            "Found 1864 images belonging to 2 classes.\n"
          ]
        }
      ],
      "source": [
        "train = ImageDataGenerator(rescale=1/255)\n",
        "test = ImageDataGenerator(rescale=1/255)\n",
        "\n",
        "train_dataset = train.flow_from_directory(training_dir + '/',\n",
        "                                          target_size=(150,150),\n",
        "                                          batch_size = 32,\n",
        "                                          class_mode = 'binary')\n",
        "                                         \n",
        "validation_dataset = test.flow_from_directory(validation_dir + '/',\n",
        "                                        target_size=(150,150),\n",
        "                                        batch_size =32,\n",
        "                                        class_mode = 'binary')"
      ]
    },
    {
      "cell_type": "code",
      "execution_count": null,
      "metadata": {
        "colab": {
          "base_uri": "https://localhost:8080/"
        },
        "id": "LAcz-7hnV7xs",
        "outputId": "fdb3daeb-89ad-4053-91b4-090080454583"
      },
      "outputs": [
        {
          "output_type": "execute_result",
          "data": {
            "text/plain": [
              "{'Crit': 0, 'Ok': 1}"
            ]
          },
          "metadata": {},
          "execution_count": 10
        }
      ],
      "source": [
        "validation_dataset.class_indices"
      ]
    },
    {
      "cell_type": "code",
      "execution_count": null,
      "metadata": {
        "id": "VmMdaQ2HWDhc"
      },
      "outputs": [],
      "source": [
        "model = keras.Sequential()\n",
        "\n",
        "model.add(tf.keras.layers.RandomRotation(0.4))\n",
        "\n",
        "# Camada Convolucional e de Pooling 1\n",
        "model.add(keras.layers.Conv2D(32,(3,3),activation='relu', kernel_initializer='he_normal',input_shape=(150,150,3)))\n",
        "model.add(Dropout(0.4))\n",
        "model.add(keras.layers.MaxPool2D(2,2))\n",
        "\n",
        "# Camada Convolucional e de Pooling 2\n",
        "model.add(keras.layers.Conv2D(64,(3,3),activation='relu'))\n",
        "model.add(Dropout(0.4))\n",
        "model.add(keras.layers.MaxPool2D(2,2))\n",
        "\n",
        "# Camada Convolucional e de Pooling 3\n",
        "model.add(keras.layers.Conv2D(128,(3,3),activation='relu'))\n",
        "model.add(Dropout(0.4))\n",
        "model.add(keras.layers.MaxPool2D(2,2))\n",
        "\n",
        "# Camada Convolucional e de Pooling 4\n",
        "model.add(keras.layers.Conv2D(128,(3,3),activation='relu'))\n",
        "model.add(Dropout(0.4))\n",
        "model.add(keras.layers.MaxPool2D(2,2))\n",
        "\n",
        "model.add(keras.layers.Flatten())\n",
        "\n",
        "# Camada totalmente conectada 1\n",
        "model.add(keras.layers.Dense(10,activation='relu'))\n",
        "model.add(Dropout(0.2))\n",
        "\n",
        "# Camada de saída\n",
        "model.add(keras.layers.Dense(1,activation='sigmoid'))"
      ]
    },
    {
      "cell_type": "code",
      "execution_count": null,
      "metadata": {
        "id": "D6_9rh9UWLJs"
      },
      "outputs": [],
      "source": [
        "model.compile(optimizer='adam',loss='binary_crossentropy',metrics=['accuracy'])"
      ]
    },
    {
      "cell_type": "code",
      "execution_count": null,
      "metadata": {
        "colab": {
          "base_uri": "https://localhost:8080/"
        },
        "id": "wUSnKnutWN7E",
        "outputId": "2d128580-64da-44cb-9ba1-6852cf818c73"
      },
      "outputs": [
        {
          "output_type": "stream",
          "name": "stdout",
          "text": [
            "Epoch 1/20\n",
            "200/200 [==============================] - 18s 91ms/step - loss: 0.0840 - accuracy: 0.9658 - val_loss: 0.1931 - val_accuracy: 0.9250\n",
            "Epoch 2/20\n",
            "200/200 [==============================] - 18s 88ms/step - loss: 0.0838 - accuracy: 0.9638 - val_loss: 0.2265 - val_accuracy: 0.9431\n",
            "Epoch 3/20\n",
            "200/200 [==============================] - 18s 88ms/step - loss: 0.0835 - accuracy: 0.9647 - val_loss: 0.1851 - val_accuracy: 0.9219\n",
            "Epoch 4/20\n",
            "200/200 [==============================] - 18s 89ms/step - loss: 0.0921 - accuracy: 0.9605 - val_loss: 0.1570 - val_accuracy: 0.9206\n",
            "Epoch 5/20\n",
            "200/200 [==============================] - 18s 88ms/step - loss: 0.0902 - accuracy: 0.9601 - val_loss: 0.2880 - val_accuracy: 0.9219\n",
            "Epoch 6/20\n",
            "200/200 [==============================] - 18s 90ms/step - loss: 0.0704 - accuracy: 0.9705 - val_loss: 0.1775 - val_accuracy: 0.9231\n",
            "Epoch 7/20\n",
            "200/200 [==============================] - 18s 89ms/step - loss: 0.0808 - accuracy: 0.9677 - val_loss: 0.1773 - val_accuracy: 0.9237\n",
            "Epoch 8/20\n",
            "200/200 [==============================] - 18s 88ms/step - loss: 0.0800 - accuracy: 0.9675 - val_loss: 0.2130 - val_accuracy: 0.9212\n",
            "Epoch 9/20\n",
            "200/200 [==============================] - 18s 88ms/step - loss: 0.0843 - accuracy: 0.9675 - val_loss: 0.1959 - val_accuracy: 0.9212\n",
            "Epoch 10/20\n",
            "200/200 [==============================] - 18s 89ms/step - loss: 0.0921 - accuracy: 0.9652 - val_loss: 0.1855 - val_accuracy: 0.9225\n",
            "Epoch 11/20\n",
            "200/200 [==============================] - 18s 89ms/step - loss: 0.0850 - accuracy: 0.9634 - val_loss: 0.2788 - val_accuracy: 0.9200\n",
            "Epoch 12/20\n",
            "200/200 [==============================] - 18s 90ms/step - loss: 0.0798 - accuracy: 0.9660 - val_loss: 0.1924 - val_accuracy: 0.9169\n",
            "Epoch 13/20\n",
            "200/200 [==============================] - 18s 88ms/step - loss: 0.0700 - accuracy: 0.9716 - val_loss: 0.1763 - val_accuracy: 0.9187\n",
            "Epoch 14/20\n",
            "200/200 [==============================] - 18s 88ms/step - loss: 0.0819 - accuracy: 0.9661 - val_loss: 0.2446 - val_accuracy: 0.9212\n",
            "Epoch 15/20\n",
            "200/200 [==============================] - 18s 88ms/step - loss: 0.0703 - accuracy: 0.9718 - val_loss: 0.1560 - val_accuracy: 0.9225\n",
            "Epoch 16/20\n",
            "200/200 [==============================] - 18s 89ms/step - loss: 0.0670 - accuracy: 0.9740 - val_loss: 0.2187 - val_accuracy: 0.9175\n",
            "Epoch 17/20\n",
            "200/200 [==============================] - 18s 91ms/step - loss: 0.0717 - accuracy: 0.9708 - val_loss: 0.2075 - val_accuracy: 0.9256\n",
            "Epoch 18/20\n",
            "200/200 [==============================] - 18s 90ms/step - loss: 0.1172 - accuracy: 0.9586 - val_loss: 0.3926 - val_accuracy: 0.9181\n",
            "Epoch 19/20\n",
            "200/200 [==============================] - 18s 89ms/step - loss: 0.0647 - accuracy: 0.9722 - val_loss: 0.2505 - val_accuracy: 0.9200\n",
            "Epoch 20/20\n",
            "200/200 [==============================] - 18s 89ms/step - loss: 0.0651 - accuracy: 0.9736 - val_loss: 0.3503 - val_accuracy: 0.9187\n"
          ]
        }
      ],
      "source": [
        "#steps_per_epoch = train_imagesize/batch_size\n",
        "\n",
        "history = model.fit(train_dataset,\n",
        "         steps_per_epoch = 200,\n",
        "         epochs = 20,\n",
        "         validation_data = validation_dataset,\n",
        "         validation_steps=50\n",
        "         )"
      ]
    },
    {
      "cell_type": "code",
      "source": [
        "loss_train = history.history['loss']\n",
        "loss_val = history.history['val_loss']\n",
        "epochs = range(0,20)\n",
        "plt.plot(epochs, loss_train, 'g', label='Conjunto de Treino')\n",
        "plt.plot(epochs, loss_val, 'b', label='Conjnto de Validação')\n",
        "plt.xlabel('Épocas [-]')\n",
        "plt.ylabel('Função Custo [-]')\n",
        "plt.grid()\n",
        "plt.legend()\n",
        "\n",
        "#plt.savefig('Plots/Deep/Custo.pdf', format = 'pdf', bbox_inches='tight')"
      ],
      "metadata": {
        "id": "FbGAtKSf_uTD",
        "colab": {
          "base_uri": "https://localhost:8080/",
          "height": 299
        },
        "outputId": "6d32b1c5-dbf9-4edb-d6d7-c3fba047799b"
      },
      "execution_count": null,
      "outputs": [
        {
          "output_type": "execute_result",
          "data": {
            "text/plain": [
              "<matplotlib.legend.Legend at 0x7f6d86ffc7c0>"
            ]
          },
          "metadata": {},
          "execution_count": 36
        },
        {
          "output_type": "display_data",
          "data": {
            "text/plain": [
              "<Figure size 432x288 with 1 Axes>"
            ],
            "image/png": "[encoded data removed]"
          },
          "metadata": {
            "needs_background": "light"
          }
        }
      ]
    },
    {
      "cell_type": "code",
      "source": [
        "acc_train = history.history['accuracy']\n",
        "acc_val = history.history['val_accuracy']\n",
        "epochs = range(0,20)\n",
        "plt.plot(epochs, acc_train, 'g', label='Conjunto de Treino')\n",
        "plt.plot(epochs, acc_val, 'b', label='Conjnto de Validação')\n",
        "plt.xlabel('Épocas [-]')\n",
        "plt.ylabel('Acurácia [-]')\n",
        "plt.grid()\n",
        "plt.legend()\n",
        "\n",
        "#plt.savefig('Plots/Deep/Acc.pdf', format = 'pdf', bbox_inches='tight')"
      ],
      "metadata": {
        "id": "bN1hHnVOAKF7",
        "colab": {
          "base_uri": "https://localhost:8080/",
          "height": 299
        },
        "outputId": "cedd5962-e81e-4d83-a58a-c78ba4ee5939"
      },
      "execution_count": null,
      "outputs": [
        {
          "output_type": "execute_result",
          "data": {
            "text/plain": [
              "<matplotlib.legend.Legend at 0x7f6d86f72c40>"
            ]
          },
          "metadata": {},
          "execution_count": 37
        },
        {
          "output_type": "display_data",
          "data": {
            "text/plain": [
              "<Figure size 432x288 with 1 Axes>"
            ],
            "image/png": "[encoded data removed]"
          },
          "metadata": {
            "needs_background": "light"
          }
        }
      ]
    },
    {
      "cell_type": "code",
      "source": [],
      "metadata": {
        "id": "0xAyleKLEIKj"
      },
      "execution_count": null,
      "outputs": []
    }
  ],
  "metadata": {
    "accelerator": "TPU",
    "colab": {
      "provenance": [],
      "toc_visible": true,
      "collapsed_sections": [
        "l-jsMc5cBR2c",
        "iAp2VU8ZB0N9",
        "KLNZOn6em0qm",
        "hwARpmwdosCf",
        "mozUJYwur9go",
        "Y5dBtNhwkAqc",
        "Z4I1d6yARZjx",
        "P2dKgNL0Ln9C"
      ],
      "include_colab_link": true
    },
    "gpuClass": "standard",
    "kernelspec": {
      "display_name": "Python 3",
      "name": "python3"
    },
    "widgets": {
      "application/vnd.jupyter.widget-state+json": {
        "8717251a667042418c3b4f131b61b6ba": {
          "model_module": "@jupyter-widgets/controls",
          "model_name": "HBoxModel",
          "model_module_version": "1.5.0",
          "state": {
            "_dom_classes": [],
            "_model_module": "@jupyter-widgets/controls",
            "_model_module_version": "1.5.0",
            "_model_name": "HBoxModel",
            "_view_count": null,
            "_view_module": "@jupyter-widgets/controls",
            "_view_module_version": "1.5.0",
            "_view_name": "HBoxView",
            "box_style": "",
            "children": [
              "IPY_MODEL_958aa288d73d4c90a710f4472560057a",
              "IPY_MODEL_253ba5a7836a403b8e0f1e2189b4b8ca",
              "IPY_MODEL_a289cd75086440c28113a2f4ae71c778"
            ],
            "layout": "IPY_MODEL_71c7e4edf0b1498fb4b9dfa16d167a11"
          }
        },
        "958aa288d73d4c90a710f4472560057a": {
          "model_module": "@jupyter-widgets/controls",
          "model_name": "HTMLModel",
          "model_module_version": "1.5.0",
          "state": {
            "_dom_classes": [],
            "_model_module": "@jupyter-widgets/controls",
            "_model_module_version": "1.5.0",
            "_model_name": "HTMLModel",
            "_view_count": null,
            "_view_module": "@jupyter-widgets/controls",
            "_view_module_version": "1.5.0",
            "_view_name": "HTMLView",
            "description": "",
            "description_tooltip": null,
            "layout": "IPY_MODEL_ee9f97df94fa4b128bda9f192984b817",
            "placeholder": "​",
            "style": "IPY_MODEL_3b08ff45bdaa428e862e072878651200",
            "value": "100%"
          }
        },
        "253ba5a7836a403b8e0f1e2189b4b8ca": {
          "model_module": "@jupyter-widgets/controls",
          "model_name": "FloatProgressModel",
          "model_module_version": "1.5.0",
          "state": {
            "_dom_classes": [],
            "_model_module": "@jupyter-widgets/controls",
            "_model_module_version": "1.5.0",
            "_model_name": "FloatProgressModel",
            "_view_count": null,
            "_view_module": "@jupyter-widgets/controls",
            "_view_module_version": "1.5.0",
            "_view_name": "ProgressView",
            "bar_style": "success",
            "description": "",
            "description_tooltip": null,
            "layout": "IPY_MODEL_801e9678c34a4a09a8ac572084729978",
            "max": 167502836,
            "min": 0,
            "orientation": "horizontal",
            "style": "IPY_MODEL_1cb9cb843b8e465fbb3fd4804677e815",
            "value": 167502836
          }
        },
        "a289cd75086440c28113a2f4ae71c778": {
          "model_module": "@jupyter-widgets/controls",
          "model_name": "HTMLModel",
          "model_module_version": "1.5.0",
          "state": {
            "_dom_classes": [],
            "_model_module": "@jupyter-widgets/controls",
            "_model_module_version": "1.5.0",
            "_model_name": "HTMLModel",
            "_view_count": null,
            "_view_module": "@jupyter-widgets/controls",
            "_view_module_version": "1.5.0",
            "_view_name": "HTMLView",
            "description": "",
            "description_tooltip": null,
            "layout": "IPY_MODEL_c821abc164b14a44b1370cf36da1337b",
            "placeholder": "​",
            "style": "IPY_MODEL_ad00a9a08f4d41239be61546ff98bae6",
            "value": " 160M/160M [00:01&lt;00:00, 94.4MB/s]"
          }
        },
        "71c7e4edf0b1498fb4b9dfa16d167a11": {
          "model_module": "@jupyter-widgets/base",
          "model_name": "LayoutModel",
          "model_module_version": "1.2.0",
          "state": {
            "_model_module": "@jupyter-widgets/base",
            "_model_module_version": "1.2.0",
            "_model_name": "LayoutModel",
            "_view_count": null,
            "_view_module": "@jupyter-widgets/base",
            "_view_module_version": "1.2.0",
            "_view_name": "LayoutView",
            "align_content": null,
            "align_items": null,
            "align_self": null,
            "border": null,
            "bottom": null,
            "display": null,
            "flex": null,
            "flex_flow": null,
            "grid_area": null,
            "grid_auto_columns": null,
            "grid_auto_flow": null,
            "grid_auto_rows": null,
            "grid_column": null,
            "grid_gap": null,
            "grid_row": null,
            "grid_template_areas": null,
            "grid_template_columns": null,
            "grid_template_rows": null,
            "height": null,
            "justify_content": null,
            "justify_items": null,
            "left": null,
            "margin": null,
            "max_height": null,
            "max_width": null,
            "min_height": null,
            "min_width": null,
            "object_fit": null,
            "object_position": null,
            "order": null,
            "overflow": null,
            "overflow_x": null,
            "overflow_y": null,
            "padding": null,
            "right": null,
            "top": null,
            "visibility": null,
            "width": null
          }
        },
        "ee9f97df94fa4b128bda9f192984b817": {
          "model_module": "@jupyter-widgets/base",
          "model_name": "LayoutModel",
          "model_module_version": "1.2.0",
          "state": {
            "_model_module": "@jupyter-widgets/base",
            "_model_module_version": "1.2.0",
            "_model_name": "LayoutModel",
            "_view_count": null,
            "_view_module": "@jupyter-widgets/base",
            "_view_module_version": "1.2.0",
            "_view_name": "LayoutView",
            "align_content": null,
            "align_items": null,
            "align_self": null,
            "border": null,
            "bottom": null,
            "display": null,
            "flex": null,
            "flex_flow": null,
            "grid_area": null,
            "grid_auto_columns": null,
            "grid_auto_flow": null,
            "grid_auto_rows": null,
            "grid_column": null,
            "grid_gap": null,
            "grid_row": null,
            "grid_template_areas": null,
            "grid_template_columns": null,
            "grid_template_rows": null,
            "height": null,
            "justify_content": null,
            "justify_items": null,
            "left": null,
            "margin": null,
            "max_height": null,
            "max_width": null,
            "min_height": null,
            "min_width": null,
            "object_fit": null,
            "object_position": null,
            "order": null,
            "overflow": null,
            "overflow_x": null,
            "overflow_y": null,
            "padding": null,
            "right": null,
            "top": null,
            "visibility": null,
            "width": null
          }
        },
        "3b08ff45bdaa428e862e072878651200": {
          "model_module": "@jupyter-widgets/controls",
          "model_name": "DescriptionStyleModel",
          "model_module_version": "1.5.0",
          "state": {
            "_model_module": "@jupyter-widgets/controls",
            "_model_module_version": "1.5.0",
            "_model_name": "DescriptionStyleModel",
            "_view_count": null,
            "_view_module": "@jupyter-widgets/base",
            "_view_module_version": "1.2.0",
            "_view_name": "StyleView",
            "description_width": ""
          }
        },
        "801e9678c34a4a09a8ac572084729978": {
          "model_module": "@jupyter-widgets/base",
          "model_name": "LayoutModel",
          "model_module_version": "1.2.0",
          "state": {
            "_model_module": "@jupyter-widgets/base",
            "_model_module_version": "1.2.0",
            "_model_name": "LayoutModel",
            "_view_count": null,
            "_view_module": "@jupyter-widgets/base",
            "_view_module_version": "1.2.0",
            "_view_name": "LayoutView",
            "align_content": null,
            "align_items": null,
            "align_self": null,
            "border": null,
            "bottom": null,
            "display": null,
            "flex": null,
            "flex_flow": null,
            "grid_area": null,
            "grid_auto_columns": null,
            "grid_auto_flow": null,
            "grid_auto_rows": null,
            "grid_column": null,
            "grid_gap": null,
            "grid_row": null,
            "grid_template_areas": null,
            "grid_template_columns": null,
            "grid_template_rows": null,
            "height": null,
            "justify_content": null,
            "justify_items": null,
            "left": null,
            "margin": null,
            "max_height": null,
            "max_width": null,
            "min_height": null,
            "min_width": null,
            "object_fit": null,
            "object_position": null,
            "order": null,
            "overflow": null,
            "overflow_x": null,
            "overflow_y": null,
            "padding": null,
            "right": null,
            "top": null,
            "visibility": null,
            "width": null
          }
        },
        "1cb9cb843b8e465fbb3fd4804677e815": {
          "model_module": "@jupyter-widgets/controls",
          "model_name": "ProgressStyleModel",
          "model_module_version": "1.5.0",
          "state": {
            "_model_module": "@jupyter-widgets/controls",
            "_model_module_version": "1.5.0",
            "_model_name": "ProgressStyleModel",
            "_view_count": null,
            "_view_module": "@jupyter-widgets/base",
            "_view_module_version": "1.2.0",
            "_view_name": "StyleView",
            "bar_color": null,
            "description_width": ""
          }
        },
        "c821abc164b14a44b1370cf36da1337b": {
          "model_module": "@jupyter-widgets/base",
          "model_name": "LayoutModel",
          "model_module_version": "1.2.0",
          "state": {
            "_model_module": "@jupyter-widgets/base",
            "_model_module_version": "1.2.0",
            "_model_name": "LayoutModel",
            "_view_count": null,
            "_view_module": "@jupyter-widgets/base",
            "_view_module_version": "1.2.0",
            "_view_name": "LayoutView",
            "align_content": null,
            "align_items": null,
            "align_self": null,
            "border": null,
            "bottom": null,
            "display": null,
            "flex": null,
            "flex_flow": null,
            "grid_area": null,
            "grid_auto_columns": null,
            "grid_auto_flow": null,
            "grid_auto_rows": null,
            "grid_column": null,
            "grid_gap": null,
            "grid_row": null,
            "grid_template_areas": null,
            "grid_template_columns": null,
            "grid_template_rows": null,
            "height": null,
            "justify_content": null,
            "justify_items": null,
            "left": null,
            "margin": null,
            "max_height": null,
            "max_width": null,
            "min_height": null,
            "min_width": null,
            "object_fit": null,
            "object_position": null,
            "order": null,
            "overflow": null,
            "overflow_x": null,
            "overflow_y": null,
            "padding": null,
            "right": null,
            "top": null,
            "visibility": null,
            "width": null
          }
        },
        "ad00a9a08f4d41239be61546ff98bae6": {
          "model_module": "@jupyter-widgets/controls",
          "model_name": "DescriptionStyleModel",
          "model_module_version": "1.5.0",
          "state": {
            "_model_module": "@jupyter-widgets/controls",
            "_model_module_version": "1.5.0",
            "_model_name": "DescriptionStyleModel",
            "_view_count": null,
            "_view_module": "@jupyter-widgets/base",
            "_view_module_version": "1.2.0",
            "_view_name": "StyleView",
            "description_width": ""
          }
        }
      }
    }
  },
  "nbformat": 4,
  "nbformat_minor": 0
}